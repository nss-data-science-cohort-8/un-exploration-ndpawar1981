{
 "cells": [
  {
   "cell_type": "markdown",
   "id": "3d3fc3b7",
   "metadata": {},
   "source": [
    "##Un Data Exploration"
   ]
  },
  {
   "cell_type": "code",
   "execution_count": 1,
   "id": "7a3f918d",
   "metadata": {},
   "outputs": [],
   "source": [
    "import pandas as pd\n",
    "import numpy as np\n",
    "import matplotlib.pyplot as plt\n",
    "import seaborn as sns"
   ]
  },
  {
   "cell_type": "markdown",
   "id": "67ba8fd5",
   "metadata": {},
   "source": [
    "Using the pandas `read_csv()` function, read the GDP dataset into your notebook as a DataFrame called `gdp_df`. After reading it in, inspect the first 10 rows and then inspect the last 10 rows. "
   ]
  },
  {
   "cell_type": "code",
   "execution_count": 2,
   "id": "5e2d5080",
   "metadata": {},
   "outputs": [],
   "source": [
    "gdp_df = pd.read_csv('../data/gdp_per_capita.csv')"
   ]
  },
  {
   "cell_type": "code",
   "execution_count": 3,
   "id": "b19f8540",
   "metadata": {},
   "outputs": [
    {
     "data": {
      "text/html": [
       "<div>\n",
       "<style scoped>\n",
       "    .dataframe tbody tr th:only-of-type {\n",
       "        vertical-align: middle;\n",
       "    }\n",
       "\n",
       "    .dataframe tbody tr th {\n",
       "        vertical-align: top;\n",
       "    }\n",
       "\n",
       "    .dataframe thead th {\n",
       "        text-align: right;\n",
       "    }\n",
       "</style>\n",
       "<table border=\"1\" class=\"dataframe\">\n",
       "  <thead>\n",
       "    <tr style=\"text-align: right;\">\n",
       "      <th></th>\n",
       "      <th>Country or Area</th>\n",
       "      <th>Year</th>\n",
       "      <th>Value</th>\n",
       "      <th>Value Footnotes</th>\n",
       "    </tr>\n",
       "  </thead>\n",
       "  <tbody>\n",
       "    <tr>\n",
       "      <th>0</th>\n",
       "      <td>Afghanistan</td>\n",
       "      <td>2021</td>\n",
       "      <td>1517.016266</td>\n",
       "      <td>NaN</td>\n",
       "    </tr>\n",
       "    <tr>\n",
       "      <th>1</th>\n",
       "      <td>Afghanistan</td>\n",
       "      <td>2020</td>\n",
       "      <td>1968.341002</td>\n",
       "      <td>NaN</td>\n",
       "    </tr>\n",
       "    <tr>\n",
       "      <th>2</th>\n",
       "      <td>Afghanistan</td>\n",
       "      <td>2019</td>\n",
       "      <td>2079.921861</td>\n",
       "      <td>NaN</td>\n",
       "    </tr>\n",
       "    <tr>\n",
       "      <th>3</th>\n",
       "      <td>Afghanistan</td>\n",
       "      <td>2018</td>\n",
       "      <td>2060.698973</td>\n",
       "      <td>NaN</td>\n",
       "    </tr>\n",
       "    <tr>\n",
       "      <th>4</th>\n",
       "      <td>Afghanistan</td>\n",
       "      <td>2017</td>\n",
       "      <td>2096.093111</td>\n",
       "      <td>NaN</td>\n",
       "    </tr>\n",
       "    <tr>\n",
       "      <th>...</th>\n",
       "      <td>...</td>\n",
       "      <td>...</td>\n",
       "      <td>...</td>\n",
       "      <td>...</td>\n",
       "    </tr>\n",
       "    <tr>\n",
       "      <th>7657</th>\n",
       "      <td>Zimbabwe</td>\n",
       "      <td>1994</td>\n",
       "      <td>2670.106615</td>\n",
       "      <td>NaN</td>\n",
       "    </tr>\n",
       "    <tr>\n",
       "      <th>7658</th>\n",
       "      <td>Zimbabwe</td>\n",
       "      <td>1993</td>\n",
       "      <td>2458.783255</td>\n",
       "      <td>NaN</td>\n",
       "    </tr>\n",
       "    <tr>\n",
       "      <th>7659</th>\n",
       "      <td>Zimbabwe</td>\n",
       "      <td>1992</td>\n",
       "      <td>2468.278257</td>\n",
       "      <td>NaN</td>\n",
       "    </tr>\n",
       "    <tr>\n",
       "      <th>7660</th>\n",
       "      <td>Zimbabwe</td>\n",
       "      <td>1991</td>\n",
       "      <td>2781.787843</td>\n",
       "      <td>NaN</td>\n",
       "    </tr>\n",
       "    <tr>\n",
       "      <th>7661</th>\n",
       "      <td>Zimbabwe</td>\n",
       "      <td>1990</td>\n",
       "      <td>2704.757299</td>\n",
       "      <td>NaN</td>\n",
       "    </tr>\n",
       "  </tbody>\n",
       "</table>\n",
       "<p>7662 rows × 4 columns</p>\n",
       "</div>"
      ],
      "text/plain": [
       "     Country or Area  Year        Value  Value Footnotes\n",
       "0        Afghanistan  2021  1517.016266              NaN\n",
       "1        Afghanistan  2020  1968.341002              NaN\n",
       "2        Afghanistan  2019  2079.921861              NaN\n",
       "3        Afghanistan  2018  2060.698973              NaN\n",
       "4        Afghanistan  2017  2096.093111              NaN\n",
       "...              ...   ...          ...              ...\n",
       "7657        Zimbabwe  1994  2670.106615              NaN\n",
       "7658        Zimbabwe  1993  2458.783255              NaN\n",
       "7659        Zimbabwe  1992  2468.278257              NaN\n",
       "7660        Zimbabwe  1991  2781.787843              NaN\n",
       "7661        Zimbabwe  1990  2704.757299              NaN\n",
       "\n",
       "[7662 rows x 4 columns]"
      ]
     },
     "execution_count": 3,
     "metadata": {},
     "output_type": "execute_result"
    }
   ],
   "source": [
    "gdp_df"
   ]
  },
  {
   "cell_type": "code",
   "execution_count": 4,
   "id": "d0c40749",
   "metadata": {},
   "outputs": [
    {
     "data": {
      "text/html": [
       "<div>\n",
       "<style scoped>\n",
       "    .dataframe tbody tr th:only-of-type {\n",
       "        vertical-align: middle;\n",
       "    }\n",
       "\n",
       "    .dataframe tbody tr th {\n",
       "        vertical-align: top;\n",
       "    }\n",
       "\n",
       "    .dataframe thead th {\n",
       "        text-align: right;\n",
       "    }\n",
       "</style>\n",
       "<table border=\"1\" class=\"dataframe\">\n",
       "  <thead>\n",
       "    <tr style=\"text-align: right;\">\n",
       "      <th></th>\n",
       "      <th>Country or Area</th>\n",
       "      <th>Year</th>\n",
       "      <th>Value</th>\n",
       "      <th>Value Footnotes</th>\n",
       "    </tr>\n",
       "  </thead>\n",
       "  <tbody>\n",
       "    <tr>\n",
       "      <th>0</th>\n",
       "      <td>Afghanistan</td>\n",
       "      <td>2021</td>\n",
       "      <td>1517.016266</td>\n",
       "      <td>NaN</td>\n",
       "    </tr>\n",
       "    <tr>\n",
       "      <th>1</th>\n",
       "      <td>Afghanistan</td>\n",
       "      <td>2020</td>\n",
       "      <td>1968.341002</td>\n",
       "      <td>NaN</td>\n",
       "    </tr>\n",
       "    <tr>\n",
       "      <th>2</th>\n",
       "      <td>Afghanistan</td>\n",
       "      <td>2019</td>\n",
       "      <td>2079.921861</td>\n",
       "      <td>NaN</td>\n",
       "    </tr>\n",
       "    <tr>\n",
       "      <th>3</th>\n",
       "      <td>Afghanistan</td>\n",
       "      <td>2018</td>\n",
       "      <td>2060.698973</td>\n",
       "      <td>NaN</td>\n",
       "    </tr>\n",
       "    <tr>\n",
       "      <th>4</th>\n",
       "      <td>Afghanistan</td>\n",
       "      <td>2017</td>\n",
       "      <td>2096.093111</td>\n",
       "      <td>NaN</td>\n",
       "    </tr>\n",
       "    <tr>\n",
       "      <th>5</th>\n",
       "      <td>Afghanistan</td>\n",
       "      <td>2016</td>\n",
       "      <td>2101.422187</td>\n",
       "      <td>NaN</td>\n",
       "    </tr>\n",
       "    <tr>\n",
       "      <th>6</th>\n",
       "      <td>Afghanistan</td>\n",
       "      <td>2015</td>\n",
       "      <td>2108.714173</td>\n",
       "      <td>NaN</td>\n",
       "    </tr>\n",
       "    <tr>\n",
       "      <th>7</th>\n",
       "      <td>Afghanistan</td>\n",
       "      <td>2014</td>\n",
       "      <td>2144.449634</td>\n",
       "      <td>NaN</td>\n",
       "    </tr>\n",
       "    <tr>\n",
       "      <th>8</th>\n",
       "      <td>Afghanistan</td>\n",
       "      <td>2013</td>\n",
       "      <td>2165.340915</td>\n",
       "      <td>NaN</td>\n",
       "    </tr>\n",
       "    <tr>\n",
       "      <th>9</th>\n",
       "      <td>Afghanistan</td>\n",
       "      <td>2012</td>\n",
       "      <td>2122.830759</td>\n",
       "      <td>NaN</td>\n",
       "    </tr>\n",
       "  </tbody>\n",
       "</table>\n",
       "</div>"
      ],
      "text/plain": [
       "  Country or Area  Year        Value  Value Footnotes\n",
       "0     Afghanistan  2021  1517.016266              NaN\n",
       "1     Afghanistan  2020  1968.341002              NaN\n",
       "2     Afghanistan  2019  2079.921861              NaN\n",
       "3     Afghanistan  2018  2060.698973              NaN\n",
       "4     Afghanistan  2017  2096.093111              NaN\n",
       "5     Afghanistan  2016  2101.422187              NaN\n",
       "6     Afghanistan  2015  2108.714173              NaN\n",
       "7     Afghanistan  2014  2144.449634              NaN\n",
       "8     Afghanistan  2013  2165.340915              NaN\n",
       "9     Afghanistan  2012  2122.830759              NaN"
      ]
     },
     "execution_count": 4,
     "metadata": {},
     "output_type": "execute_result"
    }
   ],
   "source": [
    "gdp_df.head(10)"
   ]
  },
  {
   "cell_type": "code",
   "execution_count": 5,
   "id": "3018dad5",
   "metadata": {},
   "outputs": [
    {
     "data": {
      "text/html": [
       "<div>\n",
       "<style scoped>\n",
       "    .dataframe tbody tr th:only-of-type {\n",
       "        vertical-align: middle;\n",
       "    }\n",
       "\n",
       "    .dataframe tbody tr th {\n",
       "        vertical-align: top;\n",
       "    }\n",
       "\n",
       "    .dataframe thead th {\n",
       "        text-align: right;\n",
       "    }\n",
       "</style>\n",
       "<table border=\"1\" class=\"dataframe\">\n",
       "  <thead>\n",
       "    <tr style=\"text-align: right;\">\n",
       "      <th></th>\n",
       "      <th>Country or Area</th>\n",
       "      <th>Year</th>\n",
       "      <th>Value</th>\n",
       "      <th>Value Footnotes</th>\n",
       "    </tr>\n",
       "  </thead>\n",
       "  <tbody>\n",
       "    <tr>\n",
       "      <th>7652</th>\n",
       "      <td>Zimbabwe</td>\n",
       "      <td>1999</td>\n",
       "      <td>2866.032886</td>\n",
       "      <td>NaN</td>\n",
       "    </tr>\n",
       "    <tr>\n",
       "      <th>7653</th>\n",
       "      <td>Zimbabwe</td>\n",
       "      <td>1998</td>\n",
       "      <td>2931.725144</td>\n",
       "      <td>NaN</td>\n",
       "    </tr>\n",
       "    <tr>\n",
       "      <th>7654</th>\n",
       "      <td>Zimbabwe</td>\n",
       "      <td>1997</td>\n",
       "      <td>2896.147308</td>\n",
       "      <td>NaN</td>\n",
       "    </tr>\n",
       "    <tr>\n",
       "      <th>7655</th>\n",
       "      <td>Zimbabwe</td>\n",
       "      <td>1996</td>\n",
       "      <td>2867.026043</td>\n",
       "      <td>NaN</td>\n",
       "    </tr>\n",
       "    <tr>\n",
       "      <th>7656</th>\n",
       "      <td>Zimbabwe</td>\n",
       "      <td>1995</td>\n",
       "      <td>2641.378271</td>\n",
       "      <td>NaN</td>\n",
       "    </tr>\n",
       "    <tr>\n",
       "      <th>7657</th>\n",
       "      <td>Zimbabwe</td>\n",
       "      <td>1994</td>\n",
       "      <td>2670.106615</td>\n",
       "      <td>NaN</td>\n",
       "    </tr>\n",
       "    <tr>\n",
       "      <th>7658</th>\n",
       "      <td>Zimbabwe</td>\n",
       "      <td>1993</td>\n",
       "      <td>2458.783255</td>\n",
       "      <td>NaN</td>\n",
       "    </tr>\n",
       "    <tr>\n",
       "      <th>7659</th>\n",
       "      <td>Zimbabwe</td>\n",
       "      <td>1992</td>\n",
       "      <td>2468.278257</td>\n",
       "      <td>NaN</td>\n",
       "    </tr>\n",
       "    <tr>\n",
       "      <th>7660</th>\n",
       "      <td>Zimbabwe</td>\n",
       "      <td>1991</td>\n",
       "      <td>2781.787843</td>\n",
       "      <td>NaN</td>\n",
       "    </tr>\n",
       "    <tr>\n",
       "      <th>7661</th>\n",
       "      <td>Zimbabwe</td>\n",
       "      <td>1990</td>\n",
       "      <td>2704.757299</td>\n",
       "      <td>NaN</td>\n",
       "    </tr>\n",
       "  </tbody>\n",
       "</table>\n",
       "</div>"
      ],
      "text/plain": [
       "     Country or Area  Year        Value  Value Footnotes\n",
       "7652        Zimbabwe  1999  2866.032886              NaN\n",
       "7653        Zimbabwe  1998  2931.725144              NaN\n",
       "7654        Zimbabwe  1997  2896.147308              NaN\n",
       "7655        Zimbabwe  1996  2867.026043              NaN\n",
       "7656        Zimbabwe  1995  2641.378271              NaN\n",
       "7657        Zimbabwe  1994  2670.106615              NaN\n",
       "7658        Zimbabwe  1993  2458.783255              NaN\n",
       "7659        Zimbabwe  1992  2468.278257              NaN\n",
       "7660        Zimbabwe  1991  2781.787843              NaN\n",
       "7661        Zimbabwe  1990  2704.757299              NaN"
      ]
     },
     "execution_count": 5,
     "metadata": {},
     "output_type": "execute_result"
    }
   ],
   "source": [
    "gdp_df.tail(10)"
   ]
  },
  {
   "cell_type": "code",
   "execution_count": 6,
   "id": "447ffd0a",
   "metadata": {},
   "outputs": [
    {
     "data": {
      "text/plain": [
       "7662"
      ]
     },
     "execution_count": 6,
     "metadata": {},
     "output_type": "execute_result"
    }
   ],
   "source": [
    "gdp_df['Value Footnotes'].isna().count()"
   ]
  },
  {
   "cell_type": "code",
   "execution_count": 7,
   "id": "c11d5567",
   "metadata": {},
   "outputs": [
    {
     "data": {
      "text/plain": [
       "Index(['Country or Area', 'Year', 'Value'], dtype='object')"
      ]
     },
     "execution_count": 7,
     "metadata": {},
     "output_type": "execute_result"
    }
   ],
   "source": [
    "gdp_df.columns.drop('Value Footnotes')"
   ]
  },
  {
   "cell_type": "code",
   "execution_count": 8,
   "id": "fc9f98e3",
   "metadata": {},
   "outputs": [
    {
     "data": {
      "text/html": [
       "<div>\n",
       "<style scoped>\n",
       "    .dataframe tbody tr th:only-of-type {\n",
       "        vertical-align: middle;\n",
       "    }\n",
       "\n",
       "    .dataframe tbody tr th {\n",
       "        vertical-align: top;\n",
       "    }\n",
       "\n",
       "    .dataframe thead th {\n",
       "        text-align: right;\n",
       "    }\n",
       "</style>\n",
       "<table border=\"1\" class=\"dataframe\">\n",
       "  <thead>\n",
       "    <tr style=\"text-align: right;\">\n",
       "      <th></th>\n",
       "      <th>Country or Area</th>\n",
       "      <th>Year</th>\n",
       "      <th>Value</th>\n",
       "      <th>Value Footnotes</th>\n",
       "    </tr>\n",
       "  </thead>\n",
       "  <tbody>\n",
       "    <tr>\n",
       "      <th>0</th>\n",
       "      <td>Afghanistan</td>\n",
       "      <td>2021</td>\n",
       "      <td>1517.016266</td>\n",
       "      <td>NaN</td>\n",
       "    </tr>\n",
       "    <tr>\n",
       "      <th>1</th>\n",
       "      <td>Afghanistan</td>\n",
       "      <td>2020</td>\n",
       "      <td>1968.341002</td>\n",
       "      <td>NaN</td>\n",
       "    </tr>\n",
       "    <tr>\n",
       "      <th>2</th>\n",
       "      <td>Afghanistan</td>\n",
       "      <td>2019</td>\n",
       "      <td>2079.921861</td>\n",
       "      <td>NaN</td>\n",
       "    </tr>\n",
       "    <tr>\n",
       "      <th>3</th>\n",
       "      <td>Afghanistan</td>\n",
       "      <td>2018</td>\n",
       "      <td>2060.698973</td>\n",
       "      <td>NaN</td>\n",
       "    </tr>\n",
       "    <tr>\n",
       "      <th>4</th>\n",
       "      <td>Afghanistan</td>\n",
       "      <td>2017</td>\n",
       "      <td>2096.093111</td>\n",
       "      <td>NaN</td>\n",
       "    </tr>\n",
       "    <tr>\n",
       "      <th>...</th>\n",
       "      <td>...</td>\n",
       "      <td>...</td>\n",
       "      <td>...</td>\n",
       "      <td>...</td>\n",
       "    </tr>\n",
       "    <tr>\n",
       "      <th>7657</th>\n",
       "      <td>Zimbabwe</td>\n",
       "      <td>1994</td>\n",
       "      <td>2670.106615</td>\n",
       "      <td>NaN</td>\n",
       "    </tr>\n",
       "    <tr>\n",
       "      <th>7658</th>\n",
       "      <td>Zimbabwe</td>\n",
       "      <td>1993</td>\n",
       "      <td>2458.783255</td>\n",
       "      <td>NaN</td>\n",
       "    </tr>\n",
       "    <tr>\n",
       "      <th>7659</th>\n",
       "      <td>Zimbabwe</td>\n",
       "      <td>1992</td>\n",
       "      <td>2468.278257</td>\n",
       "      <td>NaN</td>\n",
       "    </tr>\n",
       "    <tr>\n",
       "      <th>7660</th>\n",
       "      <td>Zimbabwe</td>\n",
       "      <td>1991</td>\n",
       "      <td>2781.787843</td>\n",
       "      <td>NaN</td>\n",
       "    </tr>\n",
       "    <tr>\n",
       "      <th>7661</th>\n",
       "      <td>Zimbabwe</td>\n",
       "      <td>1990</td>\n",
       "      <td>2704.757299</td>\n",
       "      <td>NaN</td>\n",
       "    </tr>\n",
       "  </tbody>\n",
       "</table>\n",
       "<p>7662 rows × 4 columns</p>\n",
       "</div>"
      ],
      "text/plain": [
       "     Country or Area  Year        Value  Value Footnotes\n",
       "0        Afghanistan  2021  1517.016266              NaN\n",
       "1        Afghanistan  2020  1968.341002              NaN\n",
       "2        Afghanistan  2019  2079.921861              NaN\n",
       "3        Afghanistan  2018  2060.698973              NaN\n",
       "4        Afghanistan  2017  2096.093111              NaN\n",
       "...              ...   ...          ...              ...\n",
       "7657        Zimbabwe  1994  2670.106615              NaN\n",
       "7658        Zimbabwe  1993  2458.783255              NaN\n",
       "7659        Zimbabwe  1992  2468.278257              NaN\n",
       "7660        Zimbabwe  1991  2781.787843              NaN\n",
       "7661        Zimbabwe  1990  2704.757299              NaN\n",
       "\n",
       "[7662 rows x 4 columns]"
      ]
     },
     "execution_count": 8,
     "metadata": {},
     "output_type": "execute_result"
    }
   ],
   "source": [
    "gdp_df"
   ]
  },
  {
   "cell_type": "code",
   "execution_count": 9,
   "id": "f27c8ab1",
   "metadata": {},
   "outputs": [],
   "source": [
    "del gdp_df['Value Footnotes']"
   ]
  },
  {
   "cell_type": "code",
   "execution_count": 10,
   "id": "2de4783e",
   "metadata": {},
   "outputs": [
    {
     "data": {
      "text/html": [
       "<div>\n",
       "<style scoped>\n",
       "    .dataframe tbody tr th:only-of-type {\n",
       "        vertical-align: middle;\n",
       "    }\n",
       "\n",
       "    .dataframe tbody tr th {\n",
       "        vertical-align: top;\n",
       "    }\n",
       "\n",
       "    .dataframe thead th {\n",
       "        text-align: right;\n",
       "    }\n",
       "</style>\n",
       "<table border=\"1\" class=\"dataframe\">\n",
       "  <thead>\n",
       "    <tr style=\"text-align: right;\">\n",
       "      <th></th>\n",
       "      <th>Country or Area</th>\n",
       "      <th>Year</th>\n",
       "      <th>Value</th>\n",
       "    </tr>\n",
       "  </thead>\n",
       "  <tbody>\n",
       "    <tr>\n",
       "      <th>0</th>\n",
       "      <td>Afghanistan</td>\n",
       "      <td>2021</td>\n",
       "      <td>1517.016266</td>\n",
       "    </tr>\n",
       "    <tr>\n",
       "      <th>1</th>\n",
       "      <td>Afghanistan</td>\n",
       "      <td>2020</td>\n",
       "      <td>1968.341002</td>\n",
       "    </tr>\n",
       "    <tr>\n",
       "      <th>2</th>\n",
       "      <td>Afghanistan</td>\n",
       "      <td>2019</td>\n",
       "      <td>2079.921861</td>\n",
       "    </tr>\n",
       "    <tr>\n",
       "      <th>3</th>\n",
       "      <td>Afghanistan</td>\n",
       "      <td>2018</td>\n",
       "      <td>2060.698973</td>\n",
       "    </tr>\n",
       "    <tr>\n",
       "      <th>4</th>\n",
       "      <td>Afghanistan</td>\n",
       "      <td>2017</td>\n",
       "      <td>2096.093111</td>\n",
       "    </tr>\n",
       "    <tr>\n",
       "      <th>...</th>\n",
       "      <td>...</td>\n",
       "      <td>...</td>\n",
       "      <td>...</td>\n",
       "    </tr>\n",
       "    <tr>\n",
       "      <th>7657</th>\n",
       "      <td>Zimbabwe</td>\n",
       "      <td>1994</td>\n",
       "      <td>2670.106615</td>\n",
       "    </tr>\n",
       "    <tr>\n",
       "      <th>7658</th>\n",
       "      <td>Zimbabwe</td>\n",
       "      <td>1993</td>\n",
       "      <td>2458.783255</td>\n",
       "    </tr>\n",
       "    <tr>\n",
       "      <th>7659</th>\n",
       "      <td>Zimbabwe</td>\n",
       "      <td>1992</td>\n",
       "      <td>2468.278257</td>\n",
       "    </tr>\n",
       "    <tr>\n",
       "      <th>7660</th>\n",
       "      <td>Zimbabwe</td>\n",
       "      <td>1991</td>\n",
       "      <td>2781.787843</td>\n",
       "    </tr>\n",
       "    <tr>\n",
       "      <th>7661</th>\n",
       "      <td>Zimbabwe</td>\n",
       "      <td>1990</td>\n",
       "      <td>2704.757299</td>\n",
       "    </tr>\n",
       "  </tbody>\n",
       "</table>\n",
       "<p>7662 rows × 3 columns</p>\n",
       "</div>"
      ],
      "text/plain": [
       "     Country or Area  Year        Value\n",
       "0        Afghanistan  2021  1517.016266\n",
       "1        Afghanistan  2020  1968.341002\n",
       "2        Afghanistan  2019  2079.921861\n",
       "3        Afghanistan  2018  2060.698973\n",
       "4        Afghanistan  2017  2096.093111\n",
       "...              ...   ...          ...\n",
       "7657        Zimbabwe  1994  2670.106615\n",
       "7658        Zimbabwe  1993  2458.783255\n",
       "7659        Zimbabwe  1992  2468.278257\n",
       "7660        Zimbabwe  1991  2781.787843\n",
       "7661        Zimbabwe  1990  2704.757299\n",
       "\n",
       "[7662 rows x 3 columns]"
      ]
     },
     "execution_count": 10,
     "metadata": {},
     "output_type": "execute_result"
    }
   ],
   "source": [
    "gdp_df"
   ]
  },
  {
   "cell_type": "code",
   "execution_count": 11,
   "id": "2cf1d9b9",
   "metadata": {},
   "outputs": [],
   "source": [
    "gdp_df = gdp_df.rename(columns={\"Country or Area\": \"Country\", \"Value\": \"GDP_Per_Capita\"})"
   ]
  },
  {
   "cell_type": "markdown",
   "id": "f3c929e9",
   "metadata": {},
   "source": [
    "6. How many rows and columns does gdp_df have? What are the data types of its columns? If any of the columns are not the expected types, figure out why and fix it."
   ]
  },
  {
   "cell_type": "code",
   "execution_count": 12,
   "id": "be8cbde7",
   "metadata": {},
   "outputs": [
    {
     "data": {
      "text/plain": [
       "(7662, 3)"
      ]
     },
     "execution_count": 12,
     "metadata": {},
     "output_type": "execute_result"
    }
   ],
   "source": [
    "gdp_df.shape\n",
    "#There are 7662 rows and 3 columns"
   ]
  },
  {
   "cell_type": "code",
   "execution_count": 13,
   "id": "b5aea968",
   "metadata": {},
   "outputs": [
    {
     "name": "stdout",
     "output_type": "stream",
     "text": [
      "<class 'pandas.core.frame.DataFrame'>\n",
      "RangeIndex: 7662 entries, 0 to 7661\n",
      "Data columns (total 3 columns):\n",
      " #   Column          Non-Null Count  Dtype  \n",
      "---  ------          --------------  -----  \n",
      " 0   Country         7662 non-null   object \n",
      " 1   Year            7662 non-null   int64  \n",
      " 2   GDP_Per_Capita  7662 non-null   float64\n",
      "dtypes: float64(1), int64(1), object(1)\n",
      "memory usage: 179.7+ KB\n"
     ]
    }
   ],
   "source": [
    "gdp_df.info()"
   ]
  },
  {
   "cell_type": "markdown",
   "id": "cd00c010",
   "metadata": {},
   "source": [
    "I do not see any different type as gdp is float, name is string object and year is integer."
   ]
  },
  {
   "cell_type": "markdown",
   "id": "37f68754",
   "metadata": {},
   "source": [
    "7. Which years are represented in this dataset? Take a look at the number of observations per year. What do you notice?"
   ]
  },
  {
   "cell_type": "code",
   "execution_count": 14,
   "id": "c8b42a5d",
   "metadata": {},
   "outputs": [
    {
     "data": {
      "text/plain": [
       "array([2021, 2020, 2019, 2018, 2017, 2016, 2015, 2014, 2013, 2012, 2011,\n",
       "       2010, 2009, 2008, 2007, 2006, 2005, 2004, 2003, 2002, 2022, 2001,\n",
       "       2000, 1999, 1998, 1997, 1996, 1995, 1994, 1993, 1992, 1991, 1990],\n",
       "      dtype=int64)"
      ]
     },
     "execution_count": 14,
     "metadata": {},
     "output_type": "execute_result"
    }
   ],
   "source": [
    "#unique \n",
    "gdp_df['Year'].unique()"
   ]
  },
  {
   "cell_type": "code",
   "execution_count": 15,
   "id": "45469204",
   "metadata": {},
   "outputs": [
    {
     "data": {
      "text/plain": [
       "Year\n",
       "2013    242\n",
       "2016    242\n",
       "2014    242\n",
       "2015    242\n",
       "2020    242\n",
       "2017    242\n",
       "2018    242\n",
       "2019    242\n",
       "2021    241\n",
       "2012    240\n",
       "2011    240\n",
       "2010    239\n",
       "2009    239\n",
       "2008    238\n",
       "2007    237\n",
       "2006    237\n",
       "2004    236\n",
       "2005    236\n",
       "2003    235\n",
       "2002    235\n",
       "2001    234\n",
       "2000    233\n",
       "2022    232\n",
       "1999    227\n",
       "1998    226\n",
       "1997    226\n",
       "1996    223\n",
       "1995    223\n",
       "1994    213\n",
       "1993    211\n",
       "1992    210\n",
       "1991    208\n",
       "1990    207\n",
       "Name: count, dtype: int64"
      ]
     },
     "execution_count": 15,
     "metadata": {},
     "output_type": "execute_result"
    }
   ],
   "source": [
    "#number of observations per year\n",
    "gdp_df['Year'].value_counts()"
   ]
  },
  {
   "cell_type": "markdown",
   "id": "4322e38f",
   "metadata": {},
   "source": [
    "There are average more than 200 observations per year"
   ]
  },
  {
   "cell_type": "markdown",
   "id": "752bf363",
   "metadata": {},
   "source": [
    "8. How many countries are represented in this dataset? Which countries are least represented in the dataset? Why do you think these countries have so few observations?"
   ]
  },
  {
   "cell_type": "code",
   "execution_count": 16,
   "id": "66783376",
   "metadata": {},
   "outputs": [
    {
     "data": {
      "text/plain": [
       "242"
      ]
     },
     "execution_count": 16,
     "metadata": {},
     "output_type": "execute_result"
    }
   ],
   "source": [
    "#count of unique countries.\n",
    "gdp_df['Country'].nunique()"
   ]
  },
  {
   "cell_type": "markdown",
   "id": "8405e0b5",
   "metadata": {},
   "source": [
    "There are total 242 unique countries in the dataset."
   ]
  },
  {
   "cell_type": "code",
   "execution_count": 17,
   "id": "8ccdaf16",
   "metadata": {},
   "outputs": [
    {
     "data": {
      "text/plain": [
       "Country\n",
       "Djibouti                       10\n",
       "Somalia                        10\n",
       "Turks and Caicos Islands       12\n",
       "Sint Maarten (Dutch part)      14\n",
       "Kosovo                         15\n",
       "Cayman Islands                 16\n",
       "Nauru                          19\n",
       "Afghanistan                    20\n",
       "CuraÃ§ao                       22\n",
       "Palau                          22\n",
       "SÃ£o TomÃ© and Principe        22\n",
       "Liberia                        23\n",
       "Other small states             23\n",
       "Qatar                          23\n",
       "Timor-Leste                    23\n",
       "Libya                          24\n",
       "San Marino                     25\n",
       "Montenegro                     26\n",
       "Small states                   26\n",
       "Croatia                        28\n",
       "Estonia                        28\n",
       "Iceland                        28\n",
       "Israel                         28\n",
       "Latvia                         28\n",
       "Lithuania                      28\n",
       "Maldives                       28\n",
       "Moldova                        28\n",
       "Serbia                         28\n",
       "Slovenia                       28\n",
       "Bosnia and Herzegovina         29\n",
       "West Bank and Gaza             29\n",
       "Cambodia                       30\n",
       "Kuwait                         31\n",
       "Slovak Republic                31\n",
       "Turkmenistan                   31\n",
       "Aruba                          32\n",
       "Bhutan                         32\n",
       "Hungary                        32\n",
       "Lebanon                        32\n",
       "Tonga                          32\n",
       "Africa Eastern and Southern    33\n",
       "Africa Western and Central     33\n",
       "Albania                        33\n",
       "Algeria                        33\n",
       "Angola                         33\n",
       "Antigua and Barbuda            33\n",
       "Arab World                     33\n",
       "Argentina                      33\n",
       "Armenia                        33\n",
       "Australia                      33\n",
       "Name: Country, dtype: int64"
      ]
     },
     "execution_count": 17,
     "metadata": {},
     "output_type": "execute_result"
    }
   ],
   "source": [
    "gdp_df.groupby('Country')['Country'].count().nsmallest(50)\n",
    "#see which countries are least represented by taking n smallest from the count"
   ]
  },
  {
   "cell_type": "code",
   "execution_count": 18,
   "id": "0760366b",
   "metadata": {},
   "outputs": [
    {
     "data": {
      "text/html": [
       "<div>\n",
       "<style scoped>\n",
       "    .dataframe tbody tr th:only-of-type {\n",
       "        vertical-align: middle;\n",
       "    }\n",
       "\n",
       "    .dataframe tbody tr th {\n",
       "        vertical-align: top;\n",
       "    }\n",
       "\n",
       "    .dataframe thead th {\n",
       "        text-align: right;\n",
       "    }\n",
       "</style>\n",
       "<table border=\"1\" class=\"dataframe\">\n",
       "  <thead>\n",
       "    <tr style=\"text-align: right;\">\n",
       "      <th></th>\n",
       "      <th>Country</th>\n",
       "      <th>Year</th>\n",
       "      <th>GDP_Per_Capita</th>\n",
       "    </tr>\n",
       "  </thead>\n",
       "  <tbody>\n",
       "    <tr>\n",
       "      <th>1694</th>\n",
       "      <td>Djibouti</td>\n",
       "      <td>2022</td>\n",
       "      <td>4991.016244</td>\n",
       "    </tr>\n",
       "    <tr>\n",
       "      <th>1695</th>\n",
       "      <td>Djibouti</td>\n",
       "      <td>2021</td>\n",
       "      <td>4912.671543</td>\n",
       "    </tr>\n",
       "    <tr>\n",
       "      <th>1696</th>\n",
       "      <td>Djibouti</td>\n",
       "      <td>2020</td>\n",
       "      <td>4753.887886</td>\n",
       "    </tr>\n",
       "    <tr>\n",
       "      <th>1697</th>\n",
       "      <td>Djibouti</td>\n",
       "      <td>2019</td>\n",
       "      <td>4768.113005</td>\n",
       "    </tr>\n",
       "    <tr>\n",
       "      <th>1698</th>\n",
       "      <td>Djibouti</td>\n",
       "      <td>2018</td>\n",
       "      <td>4589.378326</td>\n",
       "    </tr>\n",
       "    <tr>\n",
       "      <th>1699</th>\n",
       "      <td>Djibouti</td>\n",
       "      <td>2017</td>\n",
       "      <td>4451.683846</td>\n",
       "    </tr>\n",
       "    <tr>\n",
       "      <th>1700</th>\n",
       "      <td>Djibouti</td>\n",
       "      <td>2016</td>\n",
       "      <td>4291.297376</td>\n",
       "    </tr>\n",
       "    <tr>\n",
       "      <th>1701</th>\n",
       "      <td>Djibouti</td>\n",
       "      <td>2015</td>\n",
       "      <td>4073.622455</td>\n",
       "    </tr>\n",
       "    <tr>\n",
       "      <th>1702</th>\n",
       "      <td>Djibouti</td>\n",
       "      <td>2014</td>\n",
       "      <td>3854.269956</td>\n",
       "    </tr>\n",
       "    <tr>\n",
       "      <th>1703</th>\n",
       "      <td>Djibouti</td>\n",
       "      <td>2013</td>\n",
       "      <td>3664.268036</td>\n",
       "    </tr>\n",
       "  </tbody>\n",
       "</table>\n",
       "</div>"
      ],
      "text/plain": [
       "       Country  Year  GDP_Per_Capita\n",
       "1694  Djibouti  2022     4991.016244\n",
       "1695  Djibouti  2021     4912.671543\n",
       "1696  Djibouti  2020     4753.887886\n",
       "1697  Djibouti  2019     4768.113005\n",
       "1698  Djibouti  2018     4589.378326\n",
       "1699  Djibouti  2017     4451.683846\n",
       "1700  Djibouti  2016     4291.297376\n",
       "1701  Djibouti  2015     4073.622455\n",
       "1702  Djibouti  2014     3854.269956\n",
       "1703  Djibouti  2013     3664.268036"
      ]
     },
     "execution_count": 18,
     "metadata": {},
     "output_type": "execute_result"
    }
   ],
   "source": [
    "gdp_df[gdp_df['Country'] == 'Djibouti']"
   ]
  },
  {
   "cell_type": "code",
   "execution_count": 19,
   "id": "979a6334",
   "metadata": {},
   "outputs": [
    {
     "data": {
      "text/html": [
       "<div>\n",
       "<style scoped>\n",
       "    .dataframe tbody tr th:only-of-type {\n",
       "        vertical-align: middle;\n",
       "    }\n",
       "\n",
       "    .dataframe tbody tr th {\n",
       "        vertical-align: top;\n",
       "    }\n",
       "\n",
       "    .dataframe thead th {\n",
       "        text-align: right;\n",
       "    }\n",
       "</style>\n",
       "<table border=\"1\" class=\"dataframe\">\n",
       "  <thead>\n",
       "    <tr style=\"text-align: right;\">\n",
       "      <th></th>\n",
       "      <th>Country</th>\n",
       "      <th>Year</th>\n",
       "      <th>GDP_Per_Capita</th>\n",
       "    </tr>\n",
       "  </thead>\n",
       "  <tbody>\n",
       "    <tr>\n",
       "      <th>6271</th>\n",
       "      <td>Somalia</td>\n",
       "      <td>2022</td>\n",
       "      <td>1155.275773</td>\n",
       "    </tr>\n",
       "    <tr>\n",
       "      <th>6272</th>\n",
       "      <td>Somalia</td>\n",
       "      <td>2021</td>\n",
       "      <td>1136.735989</td>\n",
       "    </tr>\n",
       "    <tr>\n",
       "      <th>6273</th>\n",
       "      <td>Somalia</td>\n",
       "      <td>2020</td>\n",
       "      <td>1127.418534</td>\n",
       "    </tr>\n",
       "    <tr>\n",
       "      <th>6274</th>\n",
       "      <td>Somalia</td>\n",
       "      <td>2019</td>\n",
       "      <td>1138.285937</td>\n",
       "    </tr>\n",
       "    <tr>\n",
       "      <th>6275</th>\n",
       "      <td>Somalia</td>\n",
       "      <td>2018</td>\n",
       "      <td>1098.492832</td>\n",
       "    </tr>\n",
       "    <tr>\n",
       "      <th>6276</th>\n",
       "      <td>Somalia</td>\n",
       "      <td>2017</td>\n",
       "      <td>1059.143932</td>\n",
       "    </tr>\n",
       "    <tr>\n",
       "      <th>6277</th>\n",
       "      <td>Somalia</td>\n",
       "      <td>2016</td>\n",
       "      <td>1076.198333</td>\n",
       "    </tr>\n",
       "    <tr>\n",
       "      <th>6278</th>\n",
       "      <td>Somalia</td>\n",
       "      <td>2015</td>\n",
       "      <td>1029.699218</td>\n",
       "    </tr>\n",
       "    <tr>\n",
       "      <th>6279</th>\n",
       "      <td>Somalia</td>\n",
       "      <td>2014</td>\n",
       "      <td>925.577067</td>\n",
       "    </tr>\n",
       "    <tr>\n",
       "      <th>6280</th>\n",
       "      <td>Somalia</td>\n",
       "      <td>2013</td>\n",
       "      <td>889.166677</td>\n",
       "    </tr>\n",
       "  </tbody>\n",
       "</table>\n",
       "</div>"
      ],
      "text/plain": [
       "      Country  Year  GDP_Per_Capita\n",
       "6271  Somalia  2022     1155.275773\n",
       "6272  Somalia  2021     1136.735989\n",
       "6273  Somalia  2020     1127.418534\n",
       "6274  Somalia  2019     1138.285937\n",
       "6275  Somalia  2018     1098.492832\n",
       "6276  Somalia  2017     1059.143932\n",
       "6277  Somalia  2016     1076.198333\n",
       "6278  Somalia  2015     1029.699218\n",
       "6279  Somalia  2014      925.577067\n",
       "6280  Somalia  2013      889.166677"
      ]
     },
     "execution_count": 19,
     "metadata": {},
     "output_type": "execute_result"
    }
   ],
   "source": [
    "  gdp_df[gdp_df['Country'] == 'Somalia']"
   ]
  },
  {
   "cell_type": "markdown",
   "id": "900d462b",
   "metadata": {},
   "source": [
    "BY observing first two least represented countires, it shows that they started contributing GDP very late hence less representation."
   ]
  },
  {
   "cell_type": "markdown",
   "id": "63469818",
   "metadata": {},
   "source": [
    "9. Create a new dataframe by subsetting `gdp_df` to just the year 2021. Call this new dataframe `gdp_2021`."
   ]
  },
  {
   "cell_type": "code",
   "execution_count": 20,
   "id": "8f7d5f0b",
   "metadata": {},
   "outputs": [],
   "source": [
    " gdp_2021 = gdp_df[gdp_df['Year'] == 2021]"
   ]
  },
  {
   "cell_type": "code",
   "execution_count": 21,
   "id": "420ad701",
   "metadata": {},
   "outputs": [
    {
     "data": {
      "text/html": [
       "<div>\n",
       "<style scoped>\n",
       "    .dataframe tbody tr th:only-of-type {\n",
       "        vertical-align: middle;\n",
       "    }\n",
       "\n",
       "    .dataframe tbody tr th {\n",
       "        vertical-align: top;\n",
       "    }\n",
       "\n",
       "    .dataframe thead th {\n",
       "        text-align: right;\n",
       "    }\n",
       "</style>\n",
       "<table border=\"1\" class=\"dataframe\">\n",
       "  <thead>\n",
       "    <tr style=\"text-align: right;\">\n",
       "      <th></th>\n",
       "      <th>Country</th>\n",
       "      <th>Year</th>\n",
       "      <th>GDP_Per_Capita</th>\n",
       "    </tr>\n",
       "  </thead>\n",
       "  <tbody>\n",
       "    <tr>\n",
       "      <th>0</th>\n",
       "      <td>Afghanistan</td>\n",
       "      <td>2021</td>\n",
       "      <td>1517.016266</td>\n",
       "    </tr>\n",
       "    <tr>\n",
       "      <th>21</th>\n",
       "      <td>Africa Eastern and Southern</td>\n",
       "      <td>2021</td>\n",
       "      <td>3519.174840</td>\n",
       "    </tr>\n",
       "    <tr>\n",
       "      <th>54</th>\n",
       "      <td>Africa Western and Central</td>\n",
       "      <td>2021</td>\n",
       "      <td>4014.607965</td>\n",
       "    </tr>\n",
       "    <tr>\n",
       "      <th>87</th>\n",
       "      <td>Albania</td>\n",
       "      <td>2021</td>\n",
       "      <td>14595.944386</td>\n",
       "    </tr>\n",
       "    <tr>\n",
       "      <th>120</th>\n",
       "      <td>Algeria</td>\n",
       "      <td>2021</td>\n",
       "      <td>11029.138782</td>\n",
       "    </tr>\n",
       "    <tr>\n",
       "      <th>...</th>\n",
       "      <td>...</td>\n",
       "      <td>...</td>\n",
       "      <td>...</td>\n",
       "    </tr>\n",
       "    <tr>\n",
       "      <th>7502</th>\n",
       "      <td>Viet Nam</td>\n",
       "      <td>2021</td>\n",
       "      <td>10628.219166</td>\n",
       "    </tr>\n",
       "    <tr>\n",
       "      <th>7535</th>\n",
       "      <td>West Bank and Gaza</td>\n",
       "      <td>2021</td>\n",
       "      <td>5641.044400</td>\n",
       "    </tr>\n",
       "    <tr>\n",
       "      <th>7564</th>\n",
       "      <td>World</td>\n",
       "      <td>2021</td>\n",
       "      <td>17055.357429</td>\n",
       "    </tr>\n",
       "    <tr>\n",
       "      <th>7597</th>\n",
       "      <td>Zambia</td>\n",
       "      <td>2021</td>\n",
       "      <td>3236.788981</td>\n",
       "    </tr>\n",
       "    <tr>\n",
       "      <th>7630</th>\n",
       "      <td>Zimbabwe</td>\n",
       "      <td>2021</td>\n",
       "      <td>2115.144555</td>\n",
       "    </tr>\n",
       "  </tbody>\n",
       "</table>\n",
       "<p>241 rows × 3 columns</p>\n",
       "</div>"
      ],
      "text/plain": [
       "                          Country  Year  GDP_Per_Capita\n",
       "0                     Afghanistan  2021     1517.016266\n",
       "21    Africa Eastern and Southern  2021     3519.174840\n",
       "54     Africa Western and Central  2021     4014.607965\n",
       "87                        Albania  2021    14595.944386\n",
       "120                       Algeria  2021    11029.138782\n",
       "...                           ...   ...             ...\n",
       "7502                     Viet Nam  2021    10628.219166\n",
       "7535           West Bank and Gaza  2021     5641.044400\n",
       "7564                        World  2021    17055.357429\n",
       "7597                       Zambia  2021     3236.788981\n",
       "7630                     Zimbabwe  2021     2115.144555\n",
       "\n",
       "[241 rows x 3 columns]"
      ]
     },
     "execution_count": 21,
     "metadata": {},
     "output_type": "execute_result"
    }
   ],
   "source": [
    "gdp_2021"
   ]
  },
  {
   "cell_type": "markdown",
   "id": "aa613590",
   "metadata": {},
   "source": [
    "10. Use `.describe()` to find the summary statistics for GDP per capita in 2021."
   ]
  },
  {
   "cell_type": "code",
   "execution_count": 22,
   "id": "c6a419ae",
   "metadata": {},
   "outputs": [
    {
     "data": {
      "text/html": [
       "<div>\n",
       "<style scoped>\n",
       "    .dataframe tbody tr th:only-of-type {\n",
       "        vertical-align: middle;\n",
       "    }\n",
       "\n",
       "    .dataframe tbody tr th {\n",
       "        vertical-align: top;\n",
       "    }\n",
       "\n",
       "    .dataframe thead th {\n",
       "        text-align: right;\n",
       "    }\n",
       "</style>\n",
       "<table border=\"1\" class=\"dataframe\">\n",
       "  <thead>\n",
       "    <tr style=\"text-align: right;\">\n",
       "      <th></th>\n",
       "      <th>Year</th>\n",
       "      <th>GDP_Per_Capita</th>\n",
       "    </tr>\n",
       "  </thead>\n",
       "  <tbody>\n",
       "    <tr>\n",
       "      <th>count</th>\n",
       "      <td>241.0</td>\n",
       "      <td>241.000000</td>\n",
       "    </tr>\n",
       "    <tr>\n",
       "      <th>mean</th>\n",
       "      <td>2021.0</td>\n",
       "      <td>20711.570080</td>\n",
       "    </tr>\n",
       "    <tr>\n",
       "      <th>std</th>\n",
       "      <td>0.0</td>\n",
       "      <td>20916.978968</td>\n",
       "    </tr>\n",
       "    <tr>\n",
       "      <th>min</th>\n",
       "      <td>2021.0</td>\n",
       "      <td>714.066712</td>\n",
       "    </tr>\n",
       "    <tr>\n",
       "      <th>25%</th>\n",
       "      <td>2021.0</td>\n",
       "      <td>5044.196028</td>\n",
       "    </tr>\n",
       "    <tr>\n",
       "      <th>50%</th>\n",
       "      <td>2021.0</td>\n",
       "      <td>13754.802423</td>\n",
       "    </tr>\n",
       "    <tr>\n",
       "      <th>75%</th>\n",
       "      <td>2021.0</td>\n",
       "      <td>30974.370692</td>\n",
       "    </tr>\n",
       "    <tr>\n",
       "      <th>max</th>\n",
       "      <td>2021.0</td>\n",
       "      <td>115683.493708</td>\n",
       "    </tr>\n",
       "  </tbody>\n",
       "</table>\n",
       "</div>"
      ],
      "text/plain": [
       "         Year  GDP_Per_Capita\n",
       "count   241.0      241.000000\n",
       "mean   2021.0    20711.570080\n",
       "std       0.0    20916.978968\n",
       "min    2021.0      714.066712\n",
       "25%    2021.0     5044.196028\n",
       "50%    2021.0    13754.802423\n",
       "75%    2021.0    30974.370692\n",
       "max    2021.0   115683.493708"
      ]
     },
     "execution_count": 22,
     "metadata": {},
     "output_type": "execute_result"
    }
   ],
   "source": [
    "gdp_2021.describe()"
   ]
  },
  {
   "cell_type": "markdown",
   "id": "9aadcc61",
   "metadata": {},
   "source": [
    "\n",
    "11. Create a histogram of GDP Per Capita numbers for 2021 (you may wish to adjust the number of bins for your histogram). How would you describe the shape of the distribution?"
   ]
  },
  {
   "cell_type": "code",
   "execution_count": 23,
   "id": "a1bf4f23",
   "metadata": {
    "scrolled": true
   },
   "outputs": [
    {
     "data": {
      "text/plain": [
       "GDP_Per_Capita\n",
       "(599.097, 12211.009]        110\n",
       "(12211.009, 23707.952]       59\n",
       "(23707.952, 35204.895]       23\n",
       "(35204.895, 46701.838]       21\n",
       "(46701.838, 58198.78]        13\n",
       "(58198.78, 69695.723]         8\n",
       "(69695.723, 81192.666]        3\n",
       "(81192.666, 92689.608]        0\n",
       "(92689.608, 104186.551]       2\n",
       "(104186.551, 115683.494]      2\n",
       "Name: count, dtype: int64"
      ]
     },
     "execution_count": 23,
     "metadata": {},
     "output_type": "execute_result"
    }
   ],
   "source": [
    "#some rough work to see the bins\n",
    "pd.cut(gdp_2021['GDP_Per_Capita'], bins=10).value_counts(sort=False)"
   ]
  },
  {
   "cell_type": "code",
   "execution_count": 24,
   "id": "4e97dfe9",
   "metadata": {},
   "outputs": [
    {
     "data": {
      "image/png": "[encoded data removed]",
      "text/plain": [
       "<Figure size 640x480 with 1 Axes>"
      ]
     },
     "metadata": {},
     "output_type": "display_data"
    }
   ],
   "source": [
    "#rought work using \"cut\" method\n",
    "pd.cut(gdp_2021['GDP_Per_Capita'], bins=10).value_counts(sort=False).plot(kind=\"bar\", width=1);"
   ]
  },
  {
   "cell_type": "code",
   "execution_count": 25,
   "id": "d447ea9f",
   "metadata": {},
   "outputs": [
    {
     "data": {
      "image/png": "[encoded data removed]",
      "text/plain": [
       "<Figure size 640x480 with 1 Axes>"
      ]
     },
     "metadata": {},
     "output_type": "display_data"
    }
   ],
   "source": [
    "plt.hist(\n",
    "    data=gdp_2021,\n",
    "    x='GDP_Per_Capita',\n",
    "    bins=10\n",
    ");\n",
    "plt.xlabel('GDP per Capita')                            \n",
    "plt.ylabel('count')\n",
    "plt.title('Histogram of GDP Per Capita for 2021');"
   ]
  },
  {
   "cell_type": "markdown",
   "id": "b43ba65c",
   "metadata": {},
   "source": [
    "BY looking at the distribution it is clear that it is 1) Unimodal 2) It is right skewed"
   ]
  },
  {
   "cell_type": "markdown",
   "id": "ae1a7e52",
   "metadata": {},
   "source": [
    "12. Find the top 5 counties and bottom 5 countries by GDP per capita in 2021."
   ]
  },
  {
   "cell_type": "code",
   "execution_count": 26,
   "id": "20ed0ec3",
   "metadata": {},
   "outputs": [
    {
     "data": {
      "text/html": [
       "<div>\n",
       "<style scoped>\n",
       "    .dataframe tbody tr th:only-of-type {\n",
       "        vertical-align: middle;\n",
       "    }\n",
       "\n",
       "    .dataframe tbody tr th {\n",
       "        vertical-align: top;\n",
       "    }\n",
       "\n",
       "    .dataframe thead th {\n",
       "        text-align: right;\n",
       "    }\n",
       "</style>\n",
       "<table border=\"1\" class=\"dataframe\">\n",
       "  <thead>\n",
       "    <tr style=\"text-align: right;\">\n",
       "      <th></th>\n",
       "      <th>Country</th>\n",
       "      <th>Year</th>\n",
       "      <th>GDP_Per_Capita</th>\n",
       "    </tr>\n",
       "  </thead>\n",
       "  <tbody>\n",
       "    <tr>\n",
       "      <th>4147</th>\n",
       "      <td>Luxembourg</td>\n",
       "      <td>2021</td>\n",
       "      <td>115683.493708</td>\n",
       "    </tr>\n",
       "    <tr>\n",
       "      <th>6107</th>\n",
       "      <td>Singapore</td>\n",
       "      <td>2021</td>\n",
       "      <td>107741.118436</td>\n",
       "    </tr>\n",
       "    <tr>\n",
       "      <th>3278</th>\n",
       "      <td>Ireland</td>\n",
       "      <td>2021</td>\n",
       "      <td>102785.490239</td>\n",
       "    </tr>\n",
       "    <tr>\n",
       "      <th>5745</th>\n",
       "      <td>Qatar</td>\n",
       "      <td>2021</td>\n",
       "      <td>92862.571798</td>\n",
       "    </tr>\n",
       "    <tr>\n",
       "      <th>680</th>\n",
       "      <td>Bermuda</td>\n",
       "      <td>2021</td>\n",
       "      <td>78570.489515</td>\n",
       "    </tr>\n",
       "  </tbody>\n",
       "</table>\n",
       "</div>"
      ],
      "text/plain": [
       "         Country  Year  GDP_Per_Capita\n",
       "4147  Luxembourg  2021   115683.493708\n",
       "6107   Singapore  2021   107741.118436\n",
       "3278     Ireland  2021   102785.490239\n",
       "5745       Qatar  2021    92862.571798\n",
       "680      Bermuda  2021    78570.489515"
      ]
     },
     "execution_count": 26,
     "metadata": {},
     "output_type": "execute_result"
    }
   ],
   "source": [
    "gdp_2021.nlargest(5, columns=['GDP_Per_Capita'])"
   ]
  },
  {
   "cell_type": "code",
   "execution_count": 27,
   "id": "f8d90204",
   "metadata": {},
   "outputs": [
    {
     "data": {
      "text/html": [
       "<div>\n",
       "<style scoped>\n",
       "    .dataframe tbody tr th:only-of-type {\n",
       "        vertical-align: middle;\n",
       "    }\n",
       "\n",
       "    .dataframe tbody tr th {\n",
       "        vertical-align: top;\n",
       "    }\n",
       "\n",
       "    .dataframe thead th {\n",
       "        text-align: right;\n",
       "    }\n",
       "</style>\n",
       "<table border=\"1\" class=\"dataframe\">\n",
       "  <thead>\n",
       "    <tr style=\"text-align: right;\">\n",
       "      <th></th>\n",
       "      <th>Country</th>\n",
       "      <th>Year</th>\n",
       "      <th>GDP_Per_Capita</th>\n",
       "    </tr>\n",
       "  </thead>\n",
       "  <tbody>\n",
       "    <tr>\n",
       "      <th>972</th>\n",
       "      <td>Burundi</td>\n",
       "      <td>2021</td>\n",
       "      <td>714.066712</td>\n",
       "    </tr>\n",
       "    <tr>\n",
       "      <th>1216</th>\n",
       "      <td>Central African Republic</td>\n",
       "      <td>2021</td>\n",
       "      <td>837.504686</td>\n",
       "    </tr>\n",
       "    <tr>\n",
       "      <th>1629</th>\n",
       "      <td>Dem. Rep. Congo</td>\n",
       "      <td>2021</td>\n",
       "      <td>1073.643271</td>\n",
       "    </tr>\n",
       "    <tr>\n",
       "      <th>6272</th>\n",
       "      <td>Somalia</td>\n",
       "      <td>2021</td>\n",
       "      <td>1136.735989</td>\n",
       "    </tr>\n",
       "    <tr>\n",
       "      <th>5073</th>\n",
       "      <td>Niger</td>\n",
       "      <td>2021</td>\n",
       "      <td>1186.576809</td>\n",
       "    </tr>\n",
       "  </tbody>\n",
       "</table>\n",
       "</div>"
      ],
      "text/plain": [
       "                       Country  Year  GDP_Per_Capita\n",
       "972                    Burundi  2021      714.066712\n",
       "1216  Central African Republic  2021      837.504686\n",
       "1629           Dem. Rep. Congo  2021     1073.643271\n",
       "6272                   Somalia  2021     1136.735989\n",
       "5073                     Niger  2021     1186.576809"
      ]
     },
     "execution_count": 27,
     "metadata": {},
     "output_type": "execute_result"
    }
   ],
   "source": [
    "gdp_2021.nsmallest(5, columns=['GDP_Per_Capita'])"
   ]
  },
  {
   "cell_type": "markdown",
   "id": "15317dc4",
   "metadata": {},
   "source": [
    "13. Now, return to the full dataset, `gdp_df`. Pivot the data for 1990 and 2021 (using the pandas `.pivot_table()` method or another method) so that each row corresponds to a country, each column corresponds to a year, and the values in the table give the GDP_Per_Capita amount. Drop any rows that are missing values for either 1990 or 2021. Save the result to a dataframe named `gdp_pivoted`."
   ]
  },
  {
   "cell_type": "code",
   "execution_count": 28,
   "id": "0787e036",
   "metadata": {},
   "outputs": [
    {
     "data": {
      "text/html": [
       "<div>\n",
       "<style scoped>\n",
       "    .dataframe tbody tr th:only-of-type {\n",
       "        vertical-align: middle;\n",
       "    }\n",
       "\n",
       "    .dataframe tbody tr th {\n",
       "        vertical-align: top;\n",
       "    }\n",
       "\n",
       "    .dataframe thead th {\n",
       "        text-align: right;\n",
       "    }\n",
       "</style>\n",
       "<table border=\"1\" class=\"dataframe\">\n",
       "  <thead>\n",
       "    <tr style=\"text-align: right;\">\n",
       "      <th></th>\n",
       "      <th>Country</th>\n",
       "      <th>Year</th>\n",
       "      <th>GDP_Per_Capita</th>\n",
       "    </tr>\n",
       "  </thead>\n",
       "  <tbody>\n",
       "    <tr>\n",
       "      <th>0</th>\n",
       "      <td>Afghanistan</td>\n",
       "      <td>2021</td>\n",
       "      <td>1517.016266</td>\n",
       "    </tr>\n",
       "    <tr>\n",
       "      <th>21</th>\n",
       "      <td>Africa Eastern and Southern</td>\n",
       "      <td>2021</td>\n",
       "      <td>3519.174840</td>\n",
       "    </tr>\n",
       "    <tr>\n",
       "      <th>52</th>\n",
       "      <td>Africa Eastern and Southern</td>\n",
       "      <td>1990</td>\n",
       "      <td>3037.297466</td>\n",
       "    </tr>\n",
       "    <tr>\n",
       "      <th>54</th>\n",
       "      <td>Africa Western and Central</td>\n",
       "      <td>2021</td>\n",
       "      <td>4014.607965</td>\n",
       "    </tr>\n",
       "    <tr>\n",
       "      <th>85</th>\n",
       "      <td>Africa Western and Central</td>\n",
       "      <td>1990</td>\n",
       "      <td>2788.301039</td>\n",
       "    </tr>\n",
       "    <tr>\n",
       "      <th>...</th>\n",
       "      <td>...</td>\n",
       "      <td>...</td>\n",
       "      <td>...</td>\n",
       "    </tr>\n",
       "    <tr>\n",
       "      <th>7595</th>\n",
       "      <td>World</td>\n",
       "      <td>1990</td>\n",
       "      <td>9705.981267</td>\n",
       "    </tr>\n",
       "    <tr>\n",
       "      <th>7597</th>\n",
       "      <td>Zambia</td>\n",
       "      <td>2021</td>\n",
       "      <td>3236.788981</td>\n",
       "    </tr>\n",
       "    <tr>\n",
       "      <th>7628</th>\n",
       "      <td>Zambia</td>\n",
       "      <td>1990</td>\n",
       "      <td>2290.039226</td>\n",
       "    </tr>\n",
       "    <tr>\n",
       "      <th>7630</th>\n",
       "      <td>Zimbabwe</td>\n",
       "      <td>2021</td>\n",
       "      <td>2115.144555</td>\n",
       "    </tr>\n",
       "    <tr>\n",
       "      <th>7661</th>\n",
       "      <td>Zimbabwe</td>\n",
       "      <td>1990</td>\n",
       "      <td>2704.757299</td>\n",
       "    </tr>\n",
       "  </tbody>\n",
       "</table>\n",
       "<p>448 rows × 3 columns</p>\n",
       "</div>"
      ],
      "text/plain": [
       "                          Country  Year  GDP_Per_Capita\n",
       "0                     Afghanistan  2021     1517.016266\n",
       "21    Africa Eastern and Southern  2021     3519.174840\n",
       "52    Africa Eastern and Southern  1990     3037.297466\n",
       "54     Africa Western and Central  2021     4014.607965\n",
       "85     Africa Western and Central  1990     2788.301039\n",
       "...                           ...   ...             ...\n",
       "7595                        World  1990     9705.981267\n",
       "7597                       Zambia  2021     3236.788981\n",
       "7628                       Zambia  1990     2290.039226\n",
       "7630                     Zimbabwe  2021     2115.144555\n",
       "7661                     Zimbabwe  1990     2704.757299\n",
       "\n",
       "[448 rows x 3 columns]"
      ]
     },
     "execution_count": 28,
     "metadata": {},
     "output_type": "execute_result"
    }
   ],
   "source": [
    "#select data for 1990 and 2021\n",
    "gdp_df[gdp_df['Year'].isin([1990,2021])]"
   ]
  },
  {
   "cell_type": "code",
   "execution_count": 29,
   "id": "d9236600",
   "metadata": {},
   "outputs": [],
   "source": [
    "gdp_pivoted = gdp_df[gdp_df['Year'].isin([1990,2021])].pivot_table(values= 'GDP_Per_Capita', index = 'Country', columns = 'Year')"
   ]
  },
  {
   "cell_type": "code",
   "execution_count": 30,
   "id": "9d5cd0e0",
   "metadata": {},
   "outputs": [],
   "source": [
    "#drop all the rows who has either 1990 or 2021 value as NAN. The aixs = 0 applies for row.\n",
    "gdp_pivoted = gdp_pivoted.dropna(axis = 0)"
   ]
  },
  {
   "cell_type": "code",
   "execution_count": 31,
   "id": "7ac98b1c",
   "metadata": {},
   "outputs": [
    {
     "data": {
      "text/html": [
       "<div>\n",
       "<style scoped>\n",
       "    .dataframe tbody tr th:only-of-type {\n",
       "        vertical-align: middle;\n",
       "    }\n",
       "\n",
       "    .dataframe tbody tr th {\n",
       "        vertical-align: top;\n",
       "    }\n",
       "\n",
       "    .dataframe thead th {\n",
       "        text-align: right;\n",
       "    }\n",
       "</style>\n",
       "<table border=\"1\" class=\"dataframe\">\n",
       "  <thead>\n",
       "    <tr style=\"text-align: right;\">\n",
       "      <th>Year</th>\n",
       "      <th>1990</th>\n",
       "      <th>2021</th>\n",
       "    </tr>\n",
       "    <tr>\n",
       "      <th>Country</th>\n",
       "      <th></th>\n",
       "      <th></th>\n",
       "    </tr>\n",
       "  </thead>\n",
       "  <tbody>\n",
       "    <tr>\n",
       "      <th>Africa Eastern and Southern</th>\n",
       "      <td>3037.297466</td>\n",
       "      <td>3519.174840</td>\n",
       "    </tr>\n",
       "    <tr>\n",
       "      <th>Africa Western and Central</th>\n",
       "      <td>2788.301039</td>\n",
       "      <td>4014.607965</td>\n",
       "    </tr>\n",
       "    <tr>\n",
       "      <th>Albania</th>\n",
       "      <td>4827.027705</td>\n",
       "      <td>14595.944386</td>\n",
       "    </tr>\n",
       "    <tr>\n",
       "      <th>Algeria</th>\n",
       "      <td>8828.874473</td>\n",
       "      <td>11029.138782</td>\n",
       "    </tr>\n",
       "    <tr>\n",
       "      <th>Angola</th>\n",
       "      <td>5793.084512</td>\n",
       "      <td>5911.835657</td>\n",
       "    </tr>\n",
       "    <tr>\n",
       "      <th>...</th>\n",
       "      <td>...</td>\n",
       "      <td>...</td>\n",
       "    </tr>\n",
       "    <tr>\n",
       "      <th>Vanuatu</th>\n",
       "      <td>2774.138350</td>\n",
       "      <td>2800.493866</td>\n",
       "    </tr>\n",
       "    <tr>\n",
       "      <th>Viet Nam</th>\n",
       "      <td>2099.394649</td>\n",
       "      <td>10628.219166</td>\n",
       "    </tr>\n",
       "    <tr>\n",
       "      <th>World</th>\n",
       "      <td>9705.981267</td>\n",
       "      <td>17055.357429</td>\n",
       "    </tr>\n",
       "    <tr>\n",
       "      <th>Zambia</th>\n",
       "      <td>2290.039226</td>\n",
       "      <td>3236.788981</td>\n",
       "    </tr>\n",
       "    <tr>\n",
       "      <th>Zimbabwe</th>\n",
       "      <td>2704.757299</td>\n",
       "      <td>2115.144555</td>\n",
       "    </tr>\n",
       "  </tbody>\n",
       "</table>\n",
       "<p>206 rows × 2 columns</p>\n",
       "</div>"
      ],
      "text/plain": [
       "Year                                1990          2021\n",
       "Country                                               \n",
       "Africa Eastern and Southern  3037.297466   3519.174840\n",
       "Africa Western and Central   2788.301039   4014.607965\n",
       "Albania                      4827.027705  14595.944386\n",
       "Algeria                      8828.874473  11029.138782\n",
       "Angola                       5793.084512   5911.835657\n",
       "...                                  ...           ...\n",
       "Vanuatu                      2774.138350   2800.493866\n",
       "Viet Nam                     2099.394649  10628.219166\n",
       "World                        9705.981267  17055.357429\n",
       "Zambia                       2290.039226   3236.788981\n",
       "Zimbabwe                     2704.757299   2115.144555\n",
       "\n",
       "[206 rows x 2 columns]"
      ]
     },
     "execution_count": 31,
     "metadata": {},
     "output_type": "execute_result"
    }
   ],
   "source": [
    "gdp_pivoted"
   ]
  },
  {
   "cell_type": "markdown",
   "id": "77b9c01a",
   "metadata": {},
   "source": [
    "\n",
    "14. Create a new column in `gdp_pivoted` named `Percent_Change`. This column should contain the percent change in GDP_Per_Capita from 1990 to 2021. Hint: Percent change is calculated as 100*(New Value - Old Value) / Old Value."
   ]
  },
  {
   "cell_type": "code",
   "execution_count": 32,
   "id": "622b4a5d",
   "metadata": {},
   "outputs": [],
   "source": [
    "gdp_pivoted['Percent_Change'] = 100 * ((gdp_pivoted[2021] - gdp_pivoted[1990]) / gdp_pivoted[1990])"
   ]
  },
  {
   "cell_type": "code",
   "execution_count": 33,
   "id": "6fdca0f0",
   "metadata": {},
   "outputs": [
    {
     "data": {
      "text/html": [
       "<div>\n",
       "<style scoped>\n",
       "    .dataframe tbody tr th:only-of-type {\n",
       "        vertical-align: middle;\n",
       "    }\n",
       "\n",
       "    .dataframe tbody tr th {\n",
       "        vertical-align: top;\n",
       "    }\n",
       "\n",
       "    .dataframe thead th {\n",
       "        text-align: right;\n",
       "    }\n",
       "</style>\n",
       "<table border=\"1\" class=\"dataframe\">\n",
       "  <thead>\n",
       "    <tr style=\"text-align: right;\">\n",
       "      <th>Year</th>\n",
       "      <th>1990</th>\n",
       "      <th>2021</th>\n",
       "      <th>Percent_Change</th>\n",
       "    </tr>\n",
       "    <tr>\n",
       "      <th>Country</th>\n",
       "      <th></th>\n",
       "      <th></th>\n",
       "      <th></th>\n",
       "    </tr>\n",
       "  </thead>\n",
       "  <tbody>\n",
       "    <tr>\n",
       "      <th>Africa Eastern and Southern</th>\n",
       "      <td>3037.297466</td>\n",
       "      <td>3519.174840</td>\n",
       "      <td>15.865334</td>\n",
       "    </tr>\n",
       "    <tr>\n",
       "      <th>Africa Western and Central</th>\n",
       "      <td>2788.301039</td>\n",
       "      <td>4014.607965</td>\n",
       "      <td>43.980435</td>\n",
       "    </tr>\n",
       "    <tr>\n",
       "      <th>Albania</th>\n",
       "      <td>4827.027705</td>\n",
       "      <td>14595.944386</td>\n",
       "      <td>202.379544</td>\n",
       "    </tr>\n",
       "    <tr>\n",
       "      <th>Algeria</th>\n",
       "      <td>8828.874473</td>\n",
       "      <td>11029.138782</td>\n",
       "      <td>24.921232</td>\n",
       "    </tr>\n",
       "    <tr>\n",
       "      <th>Angola</th>\n",
       "      <td>5793.084512</td>\n",
       "      <td>5911.835657</td>\n",
       "      <td>2.049878</td>\n",
       "    </tr>\n",
       "    <tr>\n",
       "      <th>...</th>\n",
       "      <td>...</td>\n",
       "      <td>...</td>\n",
       "      <td>...</td>\n",
       "    </tr>\n",
       "    <tr>\n",
       "      <th>Vanuatu</th>\n",
       "      <td>2774.138350</td>\n",
       "      <td>2800.493866</td>\n",
       "      <td>0.950043</td>\n",
       "    </tr>\n",
       "    <tr>\n",
       "      <th>Viet Nam</th>\n",
       "      <td>2099.394649</td>\n",
       "      <td>10628.219166</td>\n",
       "      <td>406.251608</td>\n",
       "    </tr>\n",
       "    <tr>\n",
       "      <th>World</th>\n",
       "      <td>9705.981267</td>\n",
       "      <td>17055.357429</td>\n",
       "      <td>75.720074</td>\n",
       "    </tr>\n",
       "    <tr>\n",
       "      <th>Zambia</th>\n",
       "      <td>2290.039226</td>\n",
       "      <td>3236.788981</td>\n",
       "      <td>41.342076</td>\n",
       "    </tr>\n",
       "    <tr>\n",
       "      <th>Zimbabwe</th>\n",
       "      <td>2704.757299</td>\n",
       "      <td>2115.144555</td>\n",
       "      <td>-21.799100</td>\n",
       "    </tr>\n",
       "  </tbody>\n",
       "</table>\n",
       "<p>206 rows × 3 columns</p>\n",
       "</div>"
      ],
      "text/plain": [
       "Year                                1990          2021  Percent_Change\n",
       "Country                                                               \n",
       "Africa Eastern and Southern  3037.297466   3519.174840       15.865334\n",
       "Africa Western and Central   2788.301039   4014.607965       43.980435\n",
       "Albania                      4827.027705  14595.944386      202.379544\n",
       "Algeria                      8828.874473  11029.138782       24.921232\n",
       "Angola                       5793.084512   5911.835657        2.049878\n",
       "...                                  ...           ...             ...\n",
       "Vanuatu                      2774.138350   2800.493866        0.950043\n",
       "Viet Nam                     2099.394649  10628.219166      406.251608\n",
       "World                        9705.981267  17055.357429       75.720074\n",
       "Zambia                       2290.039226   3236.788981       41.342076\n",
       "Zimbabwe                     2704.757299   2115.144555      -21.799100\n",
       "\n",
       "[206 rows x 3 columns]"
      ]
     },
     "execution_count": 33,
     "metadata": {},
     "output_type": "execute_result"
    }
   ],
   "source": [
    "gdp_pivoted"
   ]
  },
  {
   "cell_type": "markdown",
   "id": "51aaa552",
   "metadata": {},
   "source": [
    "15. How many countries experienced a negative percent change in GDP per capita from 1990 to 2021?"
   ]
  },
  {
   "cell_type": "code",
   "execution_count": 34,
   "id": "2bb90418",
   "metadata": {},
   "outputs": [
    {
     "data": {
      "text/plain": [
       "Year\n",
       "1990              19\n",
       "2021              19\n",
       "Percent_Change    19\n",
       "dtype: int64"
      ]
     },
     "execution_count": 34,
     "metadata": {},
     "output_type": "execute_result"
    }
   ],
   "source": [
    "#total 19 countries \n",
    "gdp_pivoted[gdp_pivoted['Percent_Change'] < 0].count()"
   ]
  },
  {
   "cell_type": "markdown",
   "id": "026157a2",
   "metadata": {},
   "source": [
    "16. Which country had the highest % change in GDP per capita? Create a line plot showing this country's GDP per capita for all years from 1990 to 2022. Create another showing the country with the second highest % change in GDP. How do the trends in these countries compare?  \n",
    "**Bonus:** Put both line charts on the same plot."
   ]
  },
  {
   "cell_type": "markdown",
   "id": "ab334b45",
   "metadata": {},
   "source": [
    "Which country had the highest % change in GDP per capita? "
   ]
  },
  {
   "cell_type": "code",
   "execution_count": 35,
   "id": "c5fe4334",
   "metadata": {},
   "outputs": [
    {
     "data": {
      "text/html": [
       "<div>\n",
       "<style scoped>\n",
       "    .dataframe tbody tr th:only-of-type {\n",
       "        vertical-align: middle;\n",
       "    }\n",
       "\n",
       "    .dataframe tbody tr th {\n",
       "        vertical-align: top;\n",
       "    }\n",
       "\n",
       "    .dataframe thead th {\n",
       "        text-align: right;\n",
       "    }\n",
       "</style>\n",
       "<table border=\"1\" class=\"dataframe\">\n",
       "  <thead>\n",
       "    <tr style=\"text-align: right;\">\n",
       "      <th>Year</th>\n",
       "      <th>1990</th>\n",
       "      <th>2021</th>\n",
       "      <th>Percent_Change</th>\n",
       "    </tr>\n",
       "    <tr>\n",
       "      <th>Country</th>\n",
       "      <th></th>\n",
       "      <th></th>\n",
       "      <th></th>\n",
       "    </tr>\n",
       "  </thead>\n",
       "  <tbody>\n",
       "    <tr>\n",
       "      <th>Equatorial Guinea</th>\n",
       "      <td>936.419751</td>\n",
       "      <td>14637.007350</td>\n",
       "      <td>1463.081870</td>\n",
       "    </tr>\n",
       "    <tr>\n",
       "      <th>China</th>\n",
       "      <td>1423.896348</td>\n",
       "      <td>17657.495181</td>\n",
       "      <td>1140.082904</td>\n",
       "    </tr>\n",
       "  </tbody>\n",
       "</table>\n",
       "</div>"
      ],
      "text/plain": [
       "Year                      1990          2021  Percent_Change\n",
       "Country                                                     \n",
       "Equatorial Guinea   936.419751  14637.007350     1463.081870\n",
       "China              1423.896348  17657.495181     1140.082904"
      ]
     },
     "execution_count": 35,
     "metadata": {},
     "output_type": "execute_result"
    }
   ],
   "source": [
    "#highest %change\n",
    "gdp_pivoted.nlargest(2, columns=['Percent_Change'])"
   ]
  },
  {
   "cell_type": "markdown",
   "id": "4f5068ba",
   "metadata": {},
   "source": [
    "Create a line plot showing this country's GDP per capita for all years from 1990 to 2022"
   ]
  },
  {
   "cell_type": "code",
   "execution_count": 36,
   "id": "7a7e90de",
   "metadata": {},
   "outputs": [],
   "source": [
    "Equ_Guinea = gdp_df[gdp_df['Country'] == 'Equatorial Guinea']"
   ]
  },
  {
   "cell_type": "code",
   "execution_count": 37,
   "id": "3f1995ef",
   "metadata": {},
   "outputs": [
    {
     "data": {
      "image/png": "[encoded data removed]",
      "text/plain": [
       "<Figure size 640x480 with 1 Axes>"
      ]
     },
     "metadata": {},
     "output_type": "display_data"
    }
   ],
   "source": [
    "plt.plot(Equ_Guinea['Year'], Equ_Guinea['GDP_Per_Capita'])\n",
    "plt.xlabel('Year')\n",
    "plt.ylabel('Capita')\n",
    "plt.title('GDP per Capita')\n",
    "plt.show()\n"
   ]
  },
  {
   "cell_type": "markdown",
   "id": "0e59cd70",
   "metadata": {},
   "source": [
    "Create another showing the country with the second highest % change in GDP."
   ]
  },
  {
   "cell_type": "code",
   "execution_count": 38,
   "id": "a07b1fa0",
   "metadata": {},
   "outputs": [
    {
     "data": {
      "image/png": "[encoded data removed]",
      "text/plain": [
       "<Figure size 640x480 with 1 Axes>"
      ]
     },
     "metadata": {},
     "output_type": "display_data"
    }
   ],
   "source": [
    "china_df = gdp_df[gdp_df['Country'] == 'China']\n",
    "plt.plot(china_df['Year'], china_df['GDP_Per_Capita'])\n",
    "plt.xlabel('Year')\n",
    "plt.ylabel('Capita')\n",
    "plt.title('GDP per Capita')\n",
    "plt.show()"
   ]
  },
  {
   "cell_type": "markdown",
   "id": "cbe71755",
   "metadata": {},
   "source": [
    "How do the trends in these countries compare?"
   ]
  },
  {
   "cell_type": "markdown",
   "id": "1c50cdbe",
   "metadata": {},
   "source": [
    "The country \"Equatorial Guinea\" has more upper trends from 1995 towards 2005 where as China has consistent (kinda curve) raise in GDP capita. but post 2005 until 2020, \"Equatorial Guinea\" shows down and has downward trend where as China continued growing. The intial years until 2005 makes \"Equatorial Guinea\" to be highted percent in GDP Cpaita change as it raised up very sharply."
   ]
  },
  {
   "cell_type": "markdown",
   "id": "142a8527",
   "metadata": {},
   "source": [
    "**Bonus:** Put both line charts on the same plot."
   ]
  },
  {
   "cell_type": "code",
   "execution_count": 39,
   "id": "fde77134",
   "metadata": {},
   "outputs": [
    {
     "data": {
      "image/png": "[encoded data removed]",
      "text/plain": [
       "<Figure size 640x480 with 1 Axes>"
      ]
     },
     "metadata": {},
     "output_type": "display_data"
    }
   ],
   "source": [
    "plt.plot(Equ_Guinea['Year'], Equ_Guinea['GDP_Per_Capita'], label='Equatorial Guinea')\n",
    "plt.plot(china_df['Year'], china_df['GDP_Per_Capita'], label='China')\n",
    "plt.legend()\n",
    "plt.xlabel('Year')\n",
    "plt.ylabel('Capita')\n",
    "plt.title('Two largest % change in GDP per Capita')\n",
    "plt.show()"
   ]
  },
  {
   "cell_type": "markdown",
   "id": "a753bb22",
   "metadata": {},
   "source": [
    "17. Read in continents.csv contained in the `data` folder into a new dataframe called `continents`. We will be using this dataframe to add a new column to our dataset."
   ]
  },
  {
   "cell_type": "code",
   "execution_count": 40,
   "id": "0de1ec17",
   "metadata": {},
   "outputs": [],
   "source": [
    "continents = pd.read_csv('../data/continents.csv')"
   ]
  },
  {
   "cell_type": "markdown",
   "id": "f7c12ef7",
   "metadata": {},
   "source": [
    "18. Merge gdp_df and continents. Keep only the countries that appear in both data frames. Save the result back to gdp_df."
   ]
  },
  {
   "cell_type": "code",
   "execution_count": 41,
   "id": "804bc8d6",
   "metadata": {},
   "outputs": [],
   "source": [
    "#Since we only to match on the country from both data frames, we do not need to mention the join conditions. It will match\n",
    "#on the country and will not merge rows where coutries not present in continents.\n",
    "\n",
    "gdp_df = gdp_df.merge(continents)"
   ]
  },
  {
   "cell_type": "code",
   "execution_count": 42,
   "id": "b77ed841",
   "metadata": {},
   "outputs": [
    {
     "data": {
      "text/html": [
       "<div>\n",
       "<style scoped>\n",
       "    .dataframe tbody tr th:only-of-type {\n",
       "        vertical-align: middle;\n",
       "    }\n",
       "\n",
       "    .dataframe tbody tr th {\n",
       "        vertical-align: top;\n",
       "    }\n",
       "\n",
       "    .dataframe thead th {\n",
       "        text-align: right;\n",
       "    }\n",
       "</style>\n",
       "<table border=\"1\" class=\"dataframe\">\n",
       "  <thead>\n",
       "    <tr style=\"text-align: right;\">\n",
       "      <th></th>\n",
       "      <th>Country</th>\n",
       "      <th>Year</th>\n",
       "      <th>GDP_Per_Capita</th>\n",
       "      <th>Continent</th>\n",
       "    </tr>\n",
       "  </thead>\n",
       "  <tbody>\n",
       "    <tr>\n",
       "      <th>0</th>\n",
       "      <td>Afghanistan</td>\n",
       "      <td>2021</td>\n",
       "      <td>1517.016266</td>\n",
       "      <td>Asia</td>\n",
       "    </tr>\n",
       "    <tr>\n",
       "      <th>1</th>\n",
       "      <td>Afghanistan</td>\n",
       "      <td>2020</td>\n",
       "      <td>1968.341002</td>\n",
       "      <td>Asia</td>\n",
       "    </tr>\n",
       "    <tr>\n",
       "      <th>2</th>\n",
       "      <td>Afghanistan</td>\n",
       "      <td>2019</td>\n",
       "      <td>2079.921861</td>\n",
       "      <td>Asia</td>\n",
       "    </tr>\n",
       "    <tr>\n",
       "      <th>3</th>\n",
       "      <td>Afghanistan</td>\n",
       "      <td>2018</td>\n",
       "      <td>2060.698973</td>\n",
       "      <td>Asia</td>\n",
       "    </tr>\n",
       "    <tr>\n",
       "      <th>4</th>\n",
       "      <td>Afghanistan</td>\n",
       "      <td>2017</td>\n",
       "      <td>2096.093111</td>\n",
       "      <td>Asia</td>\n",
       "    </tr>\n",
       "    <tr>\n",
       "      <th>...</th>\n",
       "      <td>...</td>\n",
       "      <td>...</td>\n",
       "      <td>...</td>\n",
       "      <td>...</td>\n",
       "    </tr>\n",
       "    <tr>\n",
       "      <th>5888</th>\n",
       "      <td>Zimbabwe</td>\n",
       "      <td>1994</td>\n",
       "      <td>2670.106615</td>\n",
       "      <td>Africa</td>\n",
       "    </tr>\n",
       "    <tr>\n",
       "      <th>5889</th>\n",
       "      <td>Zimbabwe</td>\n",
       "      <td>1993</td>\n",
       "      <td>2458.783255</td>\n",
       "      <td>Africa</td>\n",
       "    </tr>\n",
       "    <tr>\n",
       "      <th>5890</th>\n",
       "      <td>Zimbabwe</td>\n",
       "      <td>1992</td>\n",
       "      <td>2468.278257</td>\n",
       "      <td>Africa</td>\n",
       "    </tr>\n",
       "    <tr>\n",
       "      <th>5891</th>\n",
       "      <td>Zimbabwe</td>\n",
       "      <td>1991</td>\n",
       "      <td>2781.787843</td>\n",
       "      <td>Africa</td>\n",
       "    </tr>\n",
       "    <tr>\n",
       "      <th>5892</th>\n",
       "      <td>Zimbabwe</td>\n",
       "      <td>1990</td>\n",
       "      <td>2704.757299</td>\n",
       "      <td>Africa</td>\n",
       "    </tr>\n",
       "  </tbody>\n",
       "</table>\n",
       "<p>5893 rows × 4 columns</p>\n",
       "</div>"
      ],
      "text/plain": [
       "          Country  Year  GDP_Per_Capita Continent\n",
       "0     Afghanistan  2021     1517.016266      Asia\n",
       "1     Afghanistan  2020     1968.341002      Asia\n",
       "2     Afghanistan  2019     2079.921861      Asia\n",
       "3     Afghanistan  2018     2060.698973      Asia\n",
       "4     Afghanistan  2017     2096.093111      Asia\n",
       "...           ...   ...             ...       ...\n",
       "5888     Zimbabwe  1994     2670.106615    Africa\n",
       "5889     Zimbabwe  1993     2458.783255    Africa\n",
       "5890     Zimbabwe  1992     2468.278257    Africa\n",
       "5891     Zimbabwe  1991     2781.787843    Africa\n",
       "5892     Zimbabwe  1990     2704.757299    Africa\n",
       "\n",
       "[5893 rows x 4 columns]"
      ]
     },
     "execution_count": 42,
     "metadata": {},
     "output_type": "execute_result"
    }
   ],
   "source": [
    "gdp_df"
   ]
  },
  {
   "cell_type": "markdown",
   "id": "9d3e98bc",
   "metadata": {},
   "source": [
    "19. Determine the number of countries per continent. Create a bar chart showing this."
   ]
  },
  {
   "cell_type": "code",
   "execution_count": 43,
   "id": "0e61e39c",
   "metadata": {},
   "outputs": [
    {
     "data": {
      "image/png": "[encoded data removed]",
      "text/plain": [
       "<Figure size 640x480 with 1 Axes>"
      ]
     },
     "metadata": {},
     "output_type": "display_data"
    }
   ],
   "source": [
    "unique_cont_country = gdp_df.drop_duplicates(subset = ['Continent','Country']).groupby('Continent').size().reset_index(name='No Of Countries')\n",
    "unique_cont_country = unique_cont_country.set_index('Continent')\n",
    "unique_cont_country.plot(kind ='bar')\n",
    "plt.xticks(rotation=0)\n",
    "plt.title('Number of countries per continent');"
   ]
  },
  {
   "cell_type": "markdown",
   "id": "0228683e",
   "metadata": {},
   "source": [
    "20. Create a seaborn boxplot showing GDP per capita in 2021 split out by continent. What do you notice?"
   ]
  },
  {
   "cell_type": "code",
   "execution_count": 44,
   "id": "456f9cda",
   "metadata": {},
   "outputs": [
    {
     "data": {
      "text/plain": [
       "<Axes: xlabel='GDP_Per_Capita', ylabel='Continent'>"
      ]
     },
     "execution_count": 44,
     "metadata": {},
     "output_type": "execute_result"
    },
    {
     "data": {
      "image/png": "[encoded data removed]",
      "text/plain": [
       "<Figure size 1000x800 with 1 Axes>"
      ]
     },
     "metadata": {},
     "output_type": "display_data"
    }
   ],
   "source": [
    "data = gdp_df[gdp_df['Year'] == 2021].sort_values('Continent')\n",
    "plt.figure(figsize = (10,8))\n",
    "sns.boxplot(data = data , x = \"GDP_Per_Capita\", y = \"Continent\")"
   ]
  },
  {
   "cell_type": "markdown",
   "id": "046e7eaa",
   "metadata": {},
   "source": [
    "Observations from box plot :\n",
    "1) African continent having most countries there, has very less GDP per capita. There are few outliers in that continent.\n",
    "2) Oceania and South America continents have less GDP. We can see couple outliers for Oceania continent.\n",
    "3) China , North America, and Europe have few outlier coutries whose GDP per capita is way more than compared to their respective other countries.\n",
    "4)Most of the boxes are right skewed from distribution stand point."
   ]
  },
  {
   "cell_type": "markdown",
   "id": "f4b57e31",
   "metadata": {},
   "source": [
    "21. Download the full csv containing Life expectancy at birth, total (years) from [https://data.worldbank.org/indicator/SP.DYN.LE00.IN?name_desc=false](https://data.worldbank.org/indicator/SP.DYN.LE00.IN?name_desc=false). Read this data into a DataFrame named `life_expectancy`. Note: When reading this dataset it, you may encounter an error. Modify your `read_csv` call to correct this **without modifying the original csv file**"
   ]
  },
  {
   "cell_type": "code",
   "execution_count": 45,
   "id": "a3f305e5",
   "metadata": {},
   "outputs": [],
   "source": [
    "#Based on the Pandas documentaation - https://pandas.pydata.org/docs/reference/api/pandas.read_csv.html , Skip the first 4 \n",
    "#infoormational rows so that we can read data\n",
    "life_expectancy = pd.read_csv('../data/API_SP.DYN.LE00.IN_DS2_en_csv_v2_31632.csv',skiprows=4)"
   ]
  },
  {
   "cell_type": "code",
   "execution_count": 46,
   "id": "29090dbe",
   "metadata": {},
   "outputs": [
    {
     "data": {
      "text/html": [
       "<div>\n",
       "<style scoped>\n",
       "    .dataframe tbody tr th:only-of-type {\n",
       "        vertical-align: middle;\n",
       "    }\n",
       "\n",
       "    .dataframe tbody tr th {\n",
       "        vertical-align: top;\n",
       "    }\n",
       "\n",
       "    .dataframe thead th {\n",
       "        text-align: right;\n",
       "    }\n",
       "</style>\n",
       "<table border=\"1\" class=\"dataframe\">\n",
       "  <thead>\n",
       "    <tr style=\"text-align: right;\">\n",
       "      <th></th>\n",
       "      <th>Country Name</th>\n",
       "      <th>Country Code</th>\n",
       "      <th>Indicator Name</th>\n",
       "      <th>Indicator Code</th>\n",
       "      <th>1960</th>\n",
       "      <th>1961</th>\n",
       "      <th>1962</th>\n",
       "      <th>1963</th>\n",
       "      <th>1964</th>\n",
       "      <th>1965</th>\n",
       "      <th>...</th>\n",
       "      <th>2015</th>\n",
       "      <th>2016</th>\n",
       "      <th>2017</th>\n",
       "      <th>2018</th>\n",
       "      <th>2019</th>\n",
       "      <th>2020</th>\n",
       "      <th>2021</th>\n",
       "      <th>2022</th>\n",
       "      <th>2023</th>\n",
       "      <th>Unnamed: 68</th>\n",
       "    </tr>\n",
       "  </thead>\n",
       "  <tbody>\n",
       "    <tr>\n",
       "      <th>0</th>\n",
       "      <td>Aruba</td>\n",
       "      <td>ABW</td>\n",
       "      <td>Life expectancy at birth, total (years)</td>\n",
       "      <td>SP.DYN.LE00.IN</td>\n",
       "      <td>64.152000</td>\n",
       "      <td>64.537000</td>\n",
       "      <td>64.752000</td>\n",
       "      <td>65.132000</td>\n",
       "      <td>65.294000</td>\n",
       "      <td>65.502000</td>\n",
       "      <td>...</td>\n",
       "      <td>75.683000</td>\n",
       "      <td>75.617000</td>\n",
       "      <td>75.903000</td>\n",
       "      <td>76.072000</td>\n",
       "      <td>76.248000</td>\n",
       "      <td>75.723000</td>\n",
       "      <td>74.626000</td>\n",
       "      <td>74.992000</td>\n",
       "      <td>NaN</td>\n",
       "      <td>NaN</td>\n",
       "    </tr>\n",
       "    <tr>\n",
       "      <th>1</th>\n",
       "      <td>Africa Eastern and Southern</td>\n",
       "      <td>AFE</td>\n",
       "      <td>Life expectancy at birth, total (years)</td>\n",
       "      <td>SP.DYN.LE00.IN</td>\n",
       "      <td>44.085552</td>\n",
       "      <td>44.386697</td>\n",
       "      <td>44.752182</td>\n",
       "      <td>44.913159</td>\n",
       "      <td>45.479043</td>\n",
       "      <td>45.498338</td>\n",
       "      <td>...</td>\n",
       "      <td>61.856458</td>\n",
       "      <td>62.444050</td>\n",
       "      <td>62.922390</td>\n",
       "      <td>63.365863</td>\n",
       "      <td>63.755678</td>\n",
       "      <td>63.313860</td>\n",
       "      <td>62.454590</td>\n",
       "      <td>62.899031</td>\n",
       "      <td>NaN</td>\n",
       "      <td>NaN</td>\n",
       "    </tr>\n",
       "    <tr>\n",
       "      <th>2</th>\n",
       "      <td>Afghanistan</td>\n",
       "      <td>AFG</td>\n",
       "      <td>Life expectancy at birth, total (years)</td>\n",
       "      <td>SP.DYN.LE00.IN</td>\n",
       "      <td>32.535000</td>\n",
       "      <td>33.068000</td>\n",
       "      <td>33.547000</td>\n",
       "      <td>34.016000</td>\n",
       "      <td>34.494000</td>\n",
       "      <td>34.953000</td>\n",
       "      <td>...</td>\n",
       "      <td>62.659000</td>\n",
       "      <td>63.136000</td>\n",
       "      <td>63.016000</td>\n",
       "      <td>63.081000</td>\n",
       "      <td>63.565000</td>\n",
       "      <td>62.575000</td>\n",
       "      <td>61.982000</td>\n",
       "      <td>62.879000</td>\n",
       "      <td>NaN</td>\n",
       "      <td>NaN</td>\n",
       "    </tr>\n",
       "    <tr>\n",
       "      <th>3</th>\n",
       "      <td>Africa Western and Central</td>\n",
       "      <td>AFW</td>\n",
       "      <td>Life expectancy at birth, total (years)</td>\n",
       "      <td>SP.DYN.LE00.IN</td>\n",
       "      <td>37.845152</td>\n",
       "      <td>38.164950</td>\n",
       "      <td>38.735102</td>\n",
       "      <td>39.063715</td>\n",
       "      <td>39.335360</td>\n",
       "      <td>39.618038</td>\n",
       "      <td>...</td>\n",
       "      <td>56.195872</td>\n",
       "      <td>56.581678</td>\n",
       "      <td>56.888446</td>\n",
       "      <td>57.189139</td>\n",
       "      <td>57.555796</td>\n",
       "      <td>57.226373</td>\n",
       "      <td>56.988657</td>\n",
       "      <td>57.626176</td>\n",
       "      <td>NaN</td>\n",
       "      <td>NaN</td>\n",
       "    </tr>\n",
       "    <tr>\n",
       "      <th>4</th>\n",
       "      <td>Angola</td>\n",
       "      <td>AGO</td>\n",
       "      <td>Life expectancy at birth, total (years)</td>\n",
       "      <td>SP.DYN.LE00.IN</td>\n",
       "      <td>38.211000</td>\n",
       "      <td>37.267000</td>\n",
       "      <td>37.539000</td>\n",
       "      <td>37.824000</td>\n",
       "      <td>38.131000</td>\n",
       "      <td>38.495000</td>\n",
       "      <td>...</td>\n",
       "      <td>60.655000</td>\n",
       "      <td>61.092000</td>\n",
       "      <td>61.680000</td>\n",
       "      <td>62.144000</td>\n",
       "      <td>62.448000</td>\n",
       "      <td>62.261000</td>\n",
       "      <td>61.643000</td>\n",
       "      <td>61.929000</td>\n",
       "      <td>NaN</td>\n",
       "      <td>NaN</td>\n",
       "    </tr>\n",
       "  </tbody>\n",
       "</table>\n",
       "<p>5 rows × 69 columns</p>\n",
       "</div>"
      ],
      "text/plain": [
       "                  Country Name Country Code  \\\n",
       "0                        Aruba          ABW   \n",
       "1  Africa Eastern and Southern          AFE   \n",
       "2                  Afghanistan          AFG   \n",
       "3   Africa Western and Central          AFW   \n",
       "4                       Angola          AGO   \n",
       "\n",
       "                            Indicator Name  Indicator Code       1960  \\\n",
       "0  Life expectancy at birth, total (years)  SP.DYN.LE00.IN  64.152000   \n",
       "1  Life expectancy at birth, total (years)  SP.DYN.LE00.IN  44.085552   \n",
       "2  Life expectancy at birth, total (years)  SP.DYN.LE00.IN  32.535000   \n",
       "3  Life expectancy at birth, total (years)  SP.DYN.LE00.IN  37.845152   \n",
       "4  Life expectancy at birth, total (years)  SP.DYN.LE00.IN  38.211000   \n",
       "\n",
       "        1961       1962       1963       1964       1965  ...       2015  \\\n",
       "0  64.537000  64.752000  65.132000  65.294000  65.502000  ...  75.683000   \n",
       "1  44.386697  44.752182  44.913159  45.479043  45.498338  ...  61.856458   \n",
       "2  33.068000  33.547000  34.016000  34.494000  34.953000  ...  62.659000   \n",
       "3  38.164950  38.735102  39.063715  39.335360  39.618038  ...  56.195872   \n",
       "4  37.267000  37.539000  37.824000  38.131000  38.495000  ...  60.655000   \n",
       "\n",
       "        2016       2017       2018       2019       2020       2021  \\\n",
       "0  75.617000  75.903000  76.072000  76.248000  75.723000  74.626000   \n",
       "1  62.444050  62.922390  63.365863  63.755678  63.313860  62.454590   \n",
       "2  63.136000  63.016000  63.081000  63.565000  62.575000  61.982000   \n",
       "3  56.581678  56.888446  57.189139  57.555796  57.226373  56.988657   \n",
       "4  61.092000  61.680000  62.144000  62.448000  62.261000  61.643000   \n",
       "\n",
       "        2022  2023  Unnamed: 68  \n",
       "0  74.992000   NaN          NaN  \n",
       "1  62.899031   NaN          NaN  \n",
       "2  62.879000   NaN          NaN  \n",
       "3  57.626176   NaN          NaN  \n",
       "4  61.929000   NaN          NaN  \n",
       "\n",
       "[5 rows x 69 columns]"
      ]
     },
     "execution_count": 46,
     "metadata": {},
     "output_type": "execute_result"
    }
   ],
   "source": [
    "life_expectancy.head(5)"
   ]
  },
  {
   "cell_type": "markdown",
   "id": "7cbe3876",
   "metadata": {},
   "source": [
    "22. Drop the Country Code, Indicator Name, and Indicator Code columns. Then use [`.melt()`](https://pandas.pydata.org/docs/reference/api/pandas.melt.html) to convert your data from wide to long. That is, instead of having one row per country and multiple colums per year, we want to have multiple rows per country and a single column for year. After melting, rename the columns to `Country`, `Year`, and `Life_Expectancy`."
   ]
  },
  {
   "cell_type": "code",
   "execution_count": 47,
   "id": "0e72116c",
   "metadata": {},
   "outputs": [],
   "source": [
    "#drop column. Documentation - https://pandas.pydata.org/docs/reference/api/pandas.DataFrame.drop.html#pandas.DataFrame.drop\n",
    "life_expectancy = life_expectancy.drop(['Country Code', 'Indicator Name', 'Indicator Code'], axis=1)"
   ]
  },
  {
   "cell_type": "code",
   "execution_count": 48,
   "id": "3baf804f",
   "metadata": {},
   "outputs": [],
   "source": [
    "#Pandas documentation -> https://pandas.pydata.org/docs/user_guide/reshaping.html#reshaping-melt\n",
    "life_expectancy = life_expectancy.melt(id_vars='Country Name')\n"
   ]
  },
  {
   "cell_type": "code",
   "execution_count": 49,
   "id": "10100d32",
   "metadata": {},
   "outputs": [
    {
     "data": {
      "text/html": [
       "<div>\n",
       "<style scoped>\n",
       "    .dataframe tbody tr th:only-of-type {\n",
       "        vertical-align: middle;\n",
       "    }\n",
       "\n",
       "    .dataframe tbody tr th {\n",
       "        vertical-align: top;\n",
       "    }\n",
       "\n",
       "    .dataframe thead th {\n",
       "        text-align: right;\n",
       "    }\n",
       "</style>\n",
       "<table border=\"1\" class=\"dataframe\">\n",
       "  <thead>\n",
       "    <tr style=\"text-align: right;\">\n",
       "      <th></th>\n",
       "      <th>Country Name</th>\n",
       "      <th>variable</th>\n",
       "      <th>value</th>\n",
       "    </tr>\n",
       "  </thead>\n",
       "  <tbody>\n",
       "    <tr>\n",
       "      <th>0</th>\n",
       "      <td>Aruba</td>\n",
       "      <td>1960</td>\n",
       "      <td>64.152000</td>\n",
       "    </tr>\n",
       "    <tr>\n",
       "      <th>1</th>\n",
       "      <td>Africa Eastern and Southern</td>\n",
       "      <td>1960</td>\n",
       "      <td>44.085552</td>\n",
       "    </tr>\n",
       "    <tr>\n",
       "      <th>2</th>\n",
       "      <td>Afghanistan</td>\n",
       "      <td>1960</td>\n",
       "      <td>32.535000</td>\n",
       "    </tr>\n",
       "    <tr>\n",
       "      <th>3</th>\n",
       "      <td>Africa Western and Central</td>\n",
       "      <td>1960</td>\n",
       "      <td>37.845152</td>\n",
       "    </tr>\n",
       "    <tr>\n",
       "      <th>4</th>\n",
       "      <td>Angola</td>\n",
       "      <td>1960</td>\n",
       "      <td>38.211000</td>\n",
       "    </tr>\n",
       "    <tr>\n",
       "      <th>...</th>\n",
       "      <td>...</td>\n",
       "      <td>...</td>\n",
       "      <td>...</td>\n",
       "    </tr>\n",
       "    <tr>\n",
       "      <th>17285</th>\n",
       "      <td>Kosovo</td>\n",
       "      <td>Unnamed: 68</td>\n",
       "      <td>NaN</td>\n",
       "    </tr>\n",
       "    <tr>\n",
       "      <th>17286</th>\n",
       "      <td>Yemen, Rep.</td>\n",
       "      <td>Unnamed: 68</td>\n",
       "      <td>NaN</td>\n",
       "    </tr>\n",
       "    <tr>\n",
       "      <th>17287</th>\n",
       "      <td>South Africa</td>\n",
       "      <td>Unnamed: 68</td>\n",
       "      <td>NaN</td>\n",
       "    </tr>\n",
       "    <tr>\n",
       "      <th>17288</th>\n",
       "      <td>Zambia</td>\n",
       "      <td>Unnamed: 68</td>\n",
       "      <td>NaN</td>\n",
       "    </tr>\n",
       "    <tr>\n",
       "      <th>17289</th>\n",
       "      <td>Zimbabwe</td>\n",
       "      <td>Unnamed: 68</td>\n",
       "      <td>NaN</td>\n",
       "    </tr>\n",
       "  </tbody>\n",
       "</table>\n",
       "<p>17290 rows × 3 columns</p>\n",
       "</div>"
      ],
      "text/plain": [
       "                      Country Name     variable      value\n",
       "0                            Aruba         1960  64.152000\n",
       "1      Africa Eastern and Southern         1960  44.085552\n",
       "2                      Afghanistan         1960  32.535000\n",
       "3       Africa Western and Central         1960  37.845152\n",
       "4                           Angola         1960  38.211000\n",
       "...                            ...          ...        ...\n",
       "17285                       Kosovo  Unnamed: 68        NaN\n",
       "17286                  Yemen, Rep.  Unnamed: 68        NaN\n",
       "17287                 South Africa  Unnamed: 68        NaN\n",
       "17288                       Zambia  Unnamed: 68        NaN\n",
       "17289                     Zimbabwe  Unnamed: 68        NaN\n",
       "\n",
       "[17290 rows x 3 columns]"
      ]
     },
     "execution_count": 49,
     "metadata": {},
     "output_type": "execute_result"
    }
   ],
   "source": [
    "life_expectancy"
   ]
  },
  {
   "cell_type": "code",
   "execution_count": 50,
   "id": "0ad82076",
   "metadata": {},
   "outputs": [],
   "source": [
    "life_expectancy = life_expectancy.rename(columns={\"Country Name\": \"Country\", \"variable\": \"Year\", \"value\": \"Life_Expectancy\"})"
   ]
  },
  {
   "cell_type": "code",
   "execution_count": 51,
   "id": "9cf8f526",
   "metadata": {},
   "outputs": [
    {
     "data": {
      "text/html": [
       "<div>\n",
       "<style scoped>\n",
       "    .dataframe tbody tr th:only-of-type {\n",
       "        vertical-align: middle;\n",
       "    }\n",
       "\n",
       "    .dataframe tbody tr th {\n",
       "        vertical-align: top;\n",
       "    }\n",
       "\n",
       "    .dataframe thead th {\n",
       "        text-align: right;\n",
       "    }\n",
       "</style>\n",
       "<table border=\"1\" class=\"dataframe\">\n",
       "  <thead>\n",
       "    <tr style=\"text-align: right;\">\n",
       "      <th></th>\n",
       "      <th>Country</th>\n",
       "      <th>Year</th>\n",
       "      <th>Life_Expectancy</th>\n",
       "    </tr>\n",
       "  </thead>\n",
       "  <tbody>\n",
       "    <tr>\n",
       "      <th>0</th>\n",
       "      <td>Aruba</td>\n",
       "      <td>1960</td>\n",
       "      <td>64.152000</td>\n",
       "    </tr>\n",
       "    <tr>\n",
       "      <th>1</th>\n",
       "      <td>Africa Eastern and Southern</td>\n",
       "      <td>1960</td>\n",
       "      <td>44.085552</td>\n",
       "    </tr>\n",
       "    <tr>\n",
       "      <th>2</th>\n",
       "      <td>Afghanistan</td>\n",
       "      <td>1960</td>\n",
       "      <td>32.535000</td>\n",
       "    </tr>\n",
       "    <tr>\n",
       "      <th>3</th>\n",
       "      <td>Africa Western and Central</td>\n",
       "      <td>1960</td>\n",
       "      <td>37.845152</td>\n",
       "    </tr>\n",
       "    <tr>\n",
       "      <th>4</th>\n",
       "      <td>Angola</td>\n",
       "      <td>1960</td>\n",
       "      <td>38.211000</td>\n",
       "    </tr>\n",
       "    <tr>\n",
       "      <th>...</th>\n",
       "      <td>...</td>\n",
       "      <td>...</td>\n",
       "      <td>...</td>\n",
       "    </tr>\n",
       "    <tr>\n",
       "      <th>17285</th>\n",
       "      <td>Kosovo</td>\n",
       "      <td>Unnamed: 68</td>\n",
       "      <td>NaN</td>\n",
       "    </tr>\n",
       "    <tr>\n",
       "      <th>17286</th>\n",
       "      <td>Yemen, Rep.</td>\n",
       "      <td>Unnamed: 68</td>\n",
       "      <td>NaN</td>\n",
       "    </tr>\n",
       "    <tr>\n",
       "      <th>17287</th>\n",
       "      <td>South Africa</td>\n",
       "      <td>Unnamed: 68</td>\n",
       "      <td>NaN</td>\n",
       "    </tr>\n",
       "    <tr>\n",
       "      <th>17288</th>\n",
       "      <td>Zambia</td>\n",
       "      <td>Unnamed: 68</td>\n",
       "      <td>NaN</td>\n",
       "    </tr>\n",
       "    <tr>\n",
       "      <th>17289</th>\n",
       "      <td>Zimbabwe</td>\n",
       "      <td>Unnamed: 68</td>\n",
       "      <td>NaN</td>\n",
       "    </tr>\n",
       "  </tbody>\n",
       "</table>\n",
       "<p>17290 rows × 3 columns</p>\n",
       "</div>"
      ],
      "text/plain": [
       "                           Country         Year  Life_Expectancy\n",
       "0                            Aruba         1960        64.152000\n",
       "1      Africa Eastern and Southern         1960        44.085552\n",
       "2                      Afghanistan         1960        32.535000\n",
       "3       Africa Western and Central         1960        37.845152\n",
       "4                           Angola         1960        38.211000\n",
       "...                            ...          ...              ...\n",
       "17285                       Kosovo  Unnamed: 68              NaN\n",
       "17286                  Yemen, Rep.  Unnamed: 68              NaN\n",
       "17287                 South Africa  Unnamed: 68              NaN\n",
       "17288                       Zambia  Unnamed: 68              NaN\n",
       "17289                     Zimbabwe  Unnamed: 68              NaN\n",
       "\n",
       "[17290 rows x 3 columns]"
      ]
     },
     "execution_count": 51,
     "metadata": {},
     "output_type": "execute_result"
    }
   ],
   "source": [
    "life_expectancy"
   ]
  },
  {
   "cell_type": "markdown",
   "id": "6e63a5c5",
   "metadata": {},
   "source": [
    "23. What was the first country with a life expectancy to exceed 80?"
   ]
  },
  {
   "cell_type": "code",
   "execution_count": 59,
   "id": "f0f10776",
   "metadata": {},
   "outputs": [
    {
     "data": {
      "text/html": [
       "<div>\n",
       "<style scoped>\n",
       "    .dataframe tbody tr th:only-of-type {\n",
       "        vertical-align: middle;\n",
       "    }\n",
       "\n",
       "    .dataframe tbody tr th {\n",
       "        vertical-align: top;\n",
       "    }\n",
       "\n",
       "    .dataframe thead th {\n",
       "        text-align: right;\n",
       "    }\n",
       "</style>\n",
       "<table border=\"1\" class=\"dataframe\">\n",
       "  <thead>\n",
       "    <tr style=\"text-align: right;\">\n",
       "      <th></th>\n",
       "      <th>Country</th>\n",
       "      <th>Year</th>\n",
       "      <th>Life_Expectancy</th>\n",
       "    </tr>\n",
       "  </thead>\n",
       "  <tbody>\n",
       "    <tr>\n",
       "      <th>9695</th>\n",
       "      <td>Japan</td>\n",
       "      <td>1996</td>\n",
       "      <td>80.219756</td>\n",
       "    </tr>\n",
       "    <tr>\n",
       "      <th>9926</th>\n",
       "      <td>Gibraltar</td>\n",
       "      <td>1997</td>\n",
       "      <td>80.343000</td>\n",
       "    </tr>\n",
       "    <tr>\n",
       "      <th>9938</th>\n",
       "      <td>Hong Kong SAR, China</td>\n",
       "      <td>1997</td>\n",
       "      <td>80.112195</td>\n",
       "    </tr>\n",
       "  </tbody>\n",
       "</table>\n",
       "</div>"
      ],
      "text/plain": [
       "                   Country  Year  Life_Expectancy\n",
       "9695                 Japan  1996        80.219756\n",
       "9926             Gibraltar  1997        80.343000\n",
       "9938  Hong Kong SAR, China  1997        80.112195"
      ]
     },
     "execution_count": 59,
     "metadata": {},
     "output_type": "execute_result"
    }
   ],
   "source": [
    "life_expectancy[life_expectancy['Life_Expectancy'] > 80].sort_values(by=['Year']).head(3)"
   ]
  },
  {
   "cell_type": "markdown",
   "id": "9a240f45",
   "metadata": {},
   "source": [
    "Ans : Japan was the first country to exceed life expectancy of 80."
   ]
  },
  {
   "cell_type": "code",
   "execution_count": null,
   "id": "d98bb1a2",
   "metadata": {},
   "outputs": [],
   "source": []
  }
 ],
 "metadata": {
  "kernelspec": {
   "display_name": "Python 3 (ipykernel)",
   "language": "python",
   "name": "python3"
  },
  "language_info": {
   "codemirror_mode": {
    "name": "ipython",
    "version": 3
   },
   "file_extension": ".py",
   "mimetype": "text/x-python",
   "name": "python",
   "nbconvert_exporter": "python",
   "pygments_lexer": "ipython3",
   "version": "3.11.5"
  }
 },
 "nbformat": 4,
 "nbformat_minor": 5
}
